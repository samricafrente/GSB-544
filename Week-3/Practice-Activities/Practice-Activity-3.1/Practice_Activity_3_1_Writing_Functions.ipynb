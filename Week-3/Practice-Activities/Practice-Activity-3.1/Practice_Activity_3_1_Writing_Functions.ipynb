{
  "cells": [
    {
      "cell_type": "raw",
      "metadata": {
        "vscode": {
          "languageId": "raw"
        }
      },
      "source": [
        "---\n",
        "title: Practice Activity 3.1\n",
        "author: Sam Ricafrente\n",
        "format:\n",
        "    html:\n",
        "        toc: true\n",
        "        code-fold: true\n",
        "        embed-resources: true\n",
        "---"
      ]
    },
    {
      "cell_type": "code",
      "execution_count": 1,
      "metadata": {
        "colab": {
          "base_uri": "https://localhost:8080/"
        },
        "id": "ft_WYOPgkcCM",
        "outputId": "3a046ca0-0fc2-4b5a-af86-335497279d60"
      },
      "outputs": [
        {
          "name": "stdout",
          "output_type": "stream",
          "text": [
            "Collecting palmerpenguins\n",
            "  Downloading palmerpenguins-0.1.4-py3-none-any.whl.metadata (2.0 kB)\n",
            "Requirement already satisfied: pandas in c:\\users\\bri_r\\anaconda3\\lib\\site-packages (from palmerpenguins) (2.2.2)\n",
            "Requirement already satisfied: numpy in c:\\users\\bri_r\\anaconda3\\lib\\site-packages (from palmerpenguins) (1.26.4)\n",
            "Requirement already satisfied: python-dateutil>=2.8.2 in c:\\users\\bri_r\\anaconda3\\lib\\site-packages (from pandas->palmerpenguins) (2.9.0.post0)\n",
            "Requirement already satisfied: pytz>=2020.1 in c:\\users\\bri_r\\anaconda3\\lib\\site-packages (from pandas->palmerpenguins) (2024.1)\n",
            "Requirement already satisfied: tzdata>=2022.7 in c:\\users\\bri_r\\anaconda3\\lib\\site-packages (from pandas->palmerpenguins) (2023.3)\n",
            "Requirement already satisfied: six>=1.5 in c:\\users\\bri_r\\anaconda3\\lib\\site-packages (from python-dateutil>=2.8.2->pandas->palmerpenguins) (1.16.0)\n",
            "Downloading palmerpenguins-0.1.4-py3-none-any.whl (17 kB)\n",
            "Installing collected packages: palmerpenguins\n",
            "Successfully installed palmerpenguins-0.1.4\n",
            "Note: you may need to restart the kernel to use updated packages.\n",
            "Collecting palmerpenguins\n",
            "  Downloading palmerpenguins-0.1.4-py3-none-any.whl.metadata (2.0 kB)\n",
            "Requirement already satisfied: pandas in c:\\users\\bri_r\\anaconda3\\lib\\site-packages (from palmerpenguins) (2.2.2)\n",
            "Requirement already satisfied: numpy in c:\\users\\bri_r\\anaconda3\\lib\\site-packages (from palmerpenguins) (1.26.4)\n",
            "Requirement already satisfied: python-dateutil>=2.8.2 in c:\\users\\bri_r\\anaconda3\\lib\\site-packages (from pandas->palmerpenguins) (2.9.0.post0)\n",
            "Requirement already satisfied: pytz>=2020.1 in c:\\users\\bri_r\\anaconda3\\lib\\site-packages (from pandas->palmerpenguins) (2024.1)\n",
            "Requirement already satisfied: tzdata>=2022.7 in c:\\users\\bri_r\\anaconda3\\lib\\site-packages (from pandas->palmerpenguins) (2023.3)\n",
            "Requirement already satisfied: six>=1.5 in c:\\users\\bri_r\\anaconda3\\lib\\site-packages (from python-dateutil>=2.8.2->pandas->palmerpenguins) (1.16.0)\n",
            "Downloading palmerpenguins-0.1.4-py3-none-any.whl (17 kB)\n",
            "Installing collected packages: palmerpenguins\n",
            "Successfully installed palmerpenguins-0.1.4\n",
            "Note: you may need to restart the kernel to use updated packages.\n"
          ]
        }
      ],
      "source": [
        "# pip install palmerpenguins"
      ]
    },
    {
      "cell_type": "code",
      "execution_count": 2,
      "metadata": {
        "id": "b69ul3XcoRQv"
      },
      "outputs": [],
      "source": [
        "import numpy as np\n",
        "import pandas as pd\n",
        "from sys import exit\n",
        "from palmerpenguins import load_penguins\n",
        "from plotnine import ggplot, aes, geom_point, geom_bar"
      ]
    },
    {
      "cell_type": "markdown",
      "metadata": {
        "id": "1Q8_a-5qociG"
      },
      "source": [
        "1. Fill in the necessary code to write a function called `times_seven()`. The function should take a single argument (`x`) and multiply the input by 7.\n",
        "  + This function should check that the argument is numeric.\n",
        "  + This function should also excitedly announce (print) *“I love sevens!”* if the argument to the function is a 7."
      ]
    },
    {
      "cell_type": "code",
      "execution_count": 3,
      "metadata": {
        "id": "l5CW0nuloYzy"
      },
      "outputs": [],
      "source": [
        "def times_seven(x):\n",
        "\n",
        "    # Check if the argument is numeric\n",
        "    if not isinstance(x, (int, float)):\n",
        "        exit(\"The input must be a number.\")\n",
        "\n",
        "    # Check if the argument is 7\n",
        "    if x == 7:\n",
        "        print(\"I love sevens!\")\n",
        "\n",
        "    # Return the input multiplied by 7\n",
        "    return x * 7"
      ]
    },
    {
      "cell_type": "markdown",
      "metadata": {
        "id": "nonjYlruotrq"
      },
      "source": [
        "2. Write and run some *unit tests* for your `times_seven` function.  What happens if the input to the function is `[1, 3, 5, 7]`?"
      ]
    },
    {
      "cell_type": "code",
      "execution_count": 20,
      "metadata": {
        "colab": {
          "base_uri": "https://localhost:8080/",
          "height": 141
        },
        "id": "G3NmvsCYbTev",
        "outputId": "56234fc5-3b3f-4da6-abee-3560fd8a4ca5"
      },
      "outputs": [
        {
          "name": "stdout",
          "output_type": "stream",
          "text": [
            "35\n",
            "I love sevens!\n",
            "49\n",
            "35\n",
            "I love sevens!\n",
            "49\n"
          ]
        }
      ],
      "source": [
        "print(times_seven(5))\n",
        "print(times_seven(7))\n",
        "# print(times_seven(\"Wardell\"))"
      ]
    },
    {
      "cell_type": "code",
      "execution_count": 21,
      "metadata": {
        "id": "CepclkCXccZl"
      },
      "outputs": [],
      "source": [
        "# print(times_seven([1, 3, 5, 7]))"
      ]
    },
    {
      "cell_type": "markdown",
      "metadata": {
        "id": "bbPeEOuAcqK7"
      },
      "source": [
        "If the input to the function is [1, 3, 5, 7], the function will return and error stating that the input must be a number."
      ]
    },
    {
      "cell_type": "markdown",
      "metadata": {
        "id": "98sLHKBno39e"
      },
      "source": [
        "3. Consider the following function:"
      ]
    },
    {
      "cell_type": "code",
      "execution_count": 14,
      "metadata": {},
      "outputs": [],
      "source": [
        "def add_or_subtract(first_num, second_num=2, type=\"add\"):\n",
        "    if type == \"add\":\n",
        "        res = first_num + second_num\n",
        "    elif type == \"subtract\":\n",
        "        res = first_num - second_num\n",
        "    else:\n",
        "        exit(\"Please choose `add` or `subtract` as the type.\")\n",
        "    return res"
      ]
    },
    {
      "cell_type": "markdown",
      "metadata": {
        "id": "KIzEYgR1pI0K"
      },
      "source": [
        "**Without running the code**, predict if the following will produce:\n",
        "\n",
        "a. 1\n",
        "\n",
        "b. -1\n",
        "\n",
        "c. 30\n",
        "\n",
        "d. An error defined by the function `add_or_subtract()`\n",
        "\n",
        "e. An error defined in a different function, which is called inside the `add_or_subtract()` function"
      ]
    },
    {
      "cell_type": "code",
      "execution_count": 18,
      "metadata": {
        "id": "AKN_fkigpHIS"
      },
      "outputs": [
        {
          "name": "stdout",
          "output_type": "stream",
          "text": [
            "-1\n",
            "-1\n"
          ]
        }
      ],
      "source": [
        "# b). -1\n",
        "print(add_or_subtract(5, 6, type = \"subtract\"))\n",
        "\n",
        "# e). An error defined in a different function, which is called inside the add_or_subtract() function\n",
        "# add_or_subtract(\"orange\")\n",
        "\n",
        "# d). An error defined by the function add_or_subtract()# add_or_subtract(5, 6, type = \"multiply\")\n",
        "# add_or_subtract(5, 6, type = \"multiply\")"
      ]
    },
    {
      "cell_type": "markdown",
      "metadata": {
        "id": "Z0_cVjgdpOSr"
      },
      "source": [
        "4. Consider the following code:"
      ]
    },
    {
      "cell_type": "code",
      "execution_count": 19,
      "metadata": {
        "id": "G4ImmGWGpekK"
      },
      "outputs": [],
      "source": [
        "first_num  = 5\n",
        "second_num = 3\n",
        "\n",
        "result = 8\n",
        "\n",
        "result = add_or_subtract(first_num, second_num = 4)\n",
        "\n",
        "result_2 = add_or_subtract(first_num)"
      ]
    },
    {
      "cell_type": "markdown",
      "metadata": {
        "id": "K0I7k29Qpjfo"
      },
      "source": [
        "\n",
        "In your Global Environment, what is the value of...  \n",
        "\n",
        "a. `first_num`  \n",
        "5  \n",
        "\n",
        "b. `second_num`  \n",
        "3 \n",
        "\n",
        "c. `result`  \n",
        "9 \n",
        "\n",
        "d. `result_2`  \n",
        "7  "
      ]
    }
  ],
  "metadata": {
    "colab": {
      "provenance": []
    },
    "kernelspec": {
      "display_name": "Python 3",
      "name": "python3"
    },
    "language_info": {
      "name": "python"
    }
  },
  "nbformat": 4,
  "nbformat_minor": 0
}
