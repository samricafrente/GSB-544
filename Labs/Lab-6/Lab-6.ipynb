{
 "cells": [
  {
   "cell_type": "raw",
   "metadata": {
    "vscode": {
     "languageId": "raw"
    }
   },
   "source": [
    "---\n",
    "title: \"Lab 6: Variable Selection and Regularization\"\n",
    "author: Sam Ricafrente\n",
    "format:\n",
    "    html:\n",
    "        toc: true\n",
    "        code-fold: true\n",
    "        embed-resources: true\n",
    "---"
   ]
  },
  {
   "cell_type": "markdown",
   "metadata": {},
   "source": [
    "# Dataset: Baseball Players\n",
    "In this lab, we will use predictive modeling to design a model that predicts a baseball player’s salary in a given year.\n",
    "\n",
    "This dataset was originally taken from the StatLib library which is maintained at Carnegie Mellon University. This is part of the data that was used in the 1988 ASA Graphics Section Poster Session. The salary data were originally from Sports Illustrated, April 20, 1987. The 1986 and career statistics were obtained from The 1987 Baseball Encyclopedia Update published by Collier Books, Macmillan Publishing Company, New York.\n",
    "\n",
    "Format: A data frame with 322 observations of major league players on the following 20 variables.\n",
    "\n",
    "AtBat: Number of times at bat in 1986\n",
    "\n",
    "Hits: Number of hits in 1986\n",
    "\n",
    "HmRun: Number of home runs in 1986\n",
    "\n",
    "Runs: Number of runs in 1986\n",
    "\n",
    "RBI: Number of runs batted in in 1986\n",
    "\n",
    "Walks: Number of walks in 1986\n",
    "\n",
    "Years: Number of years in the major leagues\n",
    "\n",
    "CAtBat: Number of times at bat during his career\n",
    "\n",
    "CHits: Number of hits during his career\n",
    "\n",
    "CHmRun: Number of home runs during his career\n",
    "\n",
    "CRuns: Number of runs during his career\n",
    "\n",
    "CRBI: Number of runs batted in during his career\n",
    "\n",
    "CWalks: Number of walks during his career\n",
    "\n",
    "League: A factor with levels A and N indicating player’s league at the end of 1986\n",
    "\n",
    "Division: A factor with levels E and W indicating player’s division at the end of 1986\n",
    "\n",
    "PutOuts: Number of put outs in 1986\n",
    "\n",
    "Assists: Number of assists in 1986\n",
    "\n",
    "Errors: Number of errors in 1986\n",
    "\n",
    "Salary: 1987 annual salary on opening day in thousands of dollars\n",
    "\n",
    "NewLeague: A factor with levels A and N indicating player’s league at the beginning of 1987\n",
    "\n",
    "You can download the dataset from here: https://www.dropbox.com/s/boshaqfgdjiaxh4/Hitters.csv?dl=1\n",
    "\n",
    "A couple notes about this lab:\n",
    "\n",
    "1. Although it isn’t listed as a specific question, don’t forget to clean your data at the beginning. How will you handle missing data? Are there any variables that need adjusting?\n",
    "\n",
    "2. There are a lot of variables in the dataset! You may want to use the remainder = \"passthrough\" trick in your column transformers, rather than typing out a ton of gene names.\n",
    "\n",
    "3. Don’t forget that in penalized regression, we must standardize our numeric variables.\n",
    "\n",
    "4. There is a lot of repetition in this lab. Think about ways to streamline your code - for example, you might consider writing simple functions to easily create pipelines.\n",
    "\n"
   ]
  },
  {
   "cell_type": "code",
   "execution_count": 1,
   "metadata": {},
   "outputs": [],
   "source": [
    "import pandas as pd\n",
    "import numpy as np\n",
    "from sklearn.pipeline import Pipeline\n",
    "from sklearn.compose import make_column_selector, ColumnTransformer\n",
    "from sklearn.preprocessing import StandardScaler, OneHotEncoder, PolynomialFeatures\n",
    "from sklearn.linear_model import LinearRegression, Ridge, Lasso, ElasticNet \n",
    "from sklearn.model_selection import train_test_split, cross_val_score, GridSearchCV\n",
    "from sklearn.metrics import r2_score\n",
    "from plotnine import *"
   ]
  },
  {
   "cell_type": "code",
   "execution_count": 2,
   "metadata": {},
   "outputs": [
    {
     "data": {
      "text/html": [
       "<div>\n",
       "<style scoped>\n",
       "    .dataframe tbody tr th:only-of-type {\n",
       "        vertical-align: middle;\n",
       "    }\n",
       "\n",
       "    .dataframe tbody tr th {\n",
       "        vertical-align: top;\n",
       "    }\n",
       "\n",
       "    .dataframe thead th {\n",
       "        text-align: right;\n",
       "    }\n",
       "</style>\n",
       "<table border=\"1\" class=\"dataframe\">\n",
       "  <thead>\n",
       "    <tr style=\"text-align: right;\">\n",
       "      <th></th>\n",
       "      <th>AtBat</th>\n",
       "      <th>Hits</th>\n",
       "      <th>HmRun</th>\n",
       "      <th>Runs</th>\n",
       "      <th>RBI</th>\n",
       "      <th>Walks</th>\n",
       "      <th>Years</th>\n",
       "      <th>CAtBat</th>\n",
       "      <th>CHits</th>\n",
       "      <th>CHmRun</th>\n",
       "      <th>CRuns</th>\n",
       "      <th>CRBI</th>\n",
       "      <th>CWalks</th>\n",
       "      <th>League</th>\n",
       "      <th>Division</th>\n",
       "      <th>PutOuts</th>\n",
       "      <th>Assists</th>\n",
       "      <th>Errors</th>\n",
       "      <th>Salary</th>\n",
       "      <th>NewLeague</th>\n",
       "    </tr>\n",
       "  </thead>\n",
       "  <tbody>\n",
       "    <tr>\n",
       "      <th>0</th>\n",
       "      <td>293</td>\n",
       "      <td>66</td>\n",
       "      <td>1</td>\n",
       "      <td>30</td>\n",
       "      <td>29</td>\n",
       "      <td>14</td>\n",
       "      <td>1</td>\n",
       "      <td>293</td>\n",
       "      <td>66</td>\n",
       "      <td>1</td>\n",
       "      <td>30</td>\n",
       "      <td>29</td>\n",
       "      <td>14</td>\n",
       "      <td>A</td>\n",
       "      <td>E</td>\n",
       "      <td>446</td>\n",
       "      <td>33</td>\n",
       "      <td>20</td>\n",
       "      <td>NaN</td>\n",
       "      <td>A</td>\n",
       "    </tr>\n",
       "    <tr>\n",
       "      <th>1</th>\n",
       "      <td>315</td>\n",
       "      <td>81</td>\n",
       "      <td>7</td>\n",
       "      <td>24</td>\n",
       "      <td>38</td>\n",
       "      <td>39</td>\n",
       "      <td>14</td>\n",
       "      <td>3449</td>\n",
       "      <td>835</td>\n",
       "      <td>69</td>\n",
       "      <td>321</td>\n",
       "      <td>414</td>\n",
       "      <td>375</td>\n",
       "      <td>N</td>\n",
       "      <td>W</td>\n",
       "      <td>632</td>\n",
       "      <td>43</td>\n",
       "      <td>10</td>\n",
       "      <td>475.0</td>\n",
       "      <td>N</td>\n",
       "    </tr>\n",
       "    <tr>\n",
       "      <th>2</th>\n",
       "      <td>479</td>\n",
       "      <td>130</td>\n",
       "      <td>18</td>\n",
       "      <td>66</td>\n",
       "      <td>72</td>\n",
       "      <td>76</td>\n",
       "      <td>3</td>\n",
       "      <td>1624</td>\n",
       "      <td>457</td>\n",
       "      <td>63</td>\n",
       "      <td>224</td>\n",
       "      <td>266</td>\n",
       "      <td>263</td>\n",
       "      <td>A</td>\n",
       "      <td>W</td>\n",
       "      <td>880</td>\n",
       "      <td>82</td>\n",
       "      <td>14</td>\n",
       "      <td>480.0</td>\n",
       "      <td>A</td>\n",
       "    </tr>\n",
       "    <tr>\n",
       "      <th>3</th>\n",
       "      <td>496</td>\n",
       "      <td>141</td>\n",
       "      <td>20</td>\n",
       "      <td>65</td>\n",
       "      <td>78</td>\n",
       "      <td>37</td>\n",
       "      <td>11</td>\n",
       "      <td>5628</td>\n",
       "      <td>1575</td>\n",
       "      <td>225</td>\n",
       "      <td>828</td>\n",
       "      <td>838</td>\n",
       "      <td>354</td>\n",
       "      <td>N</td>\n",
       "      <td>E</td>\n",
       "      <td>200</td>\n",
       "      <td>11</td>\n",
       "      <td>3</td>\n",
       "      <td>500.0</td>\n",
       "      <td>N</td>\n",
       "    </tr>\n",
       "    <tr>\n",
       "      <th>4</th>\n",
       "      <td>321</td>\n",
       "      <td>87</td>\n",
       "      <td>10</td>\n",
       "      <td>39</td>\n",
       "      <td>42</td>\n",
       "      <td>30</td>\n",
       "      <td>2</td>\n",
       "      <td>396</td>\n",
       "      <td>101</td>\n",
       "      <td>12</td>\n",
       "      <td>48</td>\n",
       "      <td>46</td>\n",
       "      <td>33</td>\n",
       "      <td>N</td>\n",
       "      <td>E</td>\n",
       "      <td>805</td>\n",
       "      <td>40</td>\n",
       "      <td>4</td>\n",
       "      <td>91.5</td>\n",
       "      <td>N</td>\n",
       "    </tr>\n",
       "  </tbody>\n",
       "</table>\n",
       "</div>"
      ],
      "text/plain": [
       "   AtBat  Hits  HmRun  Runs  RBI  Walks  Years  CAtBat  CHits  CHmRun  CRuns  \\\n",
       "0    293    66      1    30   29     14      1     293     66       1     30   \n",
       "1    315    81      7    24   38     39     14    3449    835      69    321   \n",
       "2    479   130     18    66   72     76      3    1624    457      63    224   \n",
       "3    496   141     20    65   78     37     11    5628   1575     225    828   \n",
       "4    321    87     10    39   42     30      2     396    101      12     48   \n",
       "\n",
       "   CRBI  CWalks League Division  PutOuts  Assists  Errors  Salary NewLeague  \n",
       "0    29      14      A        E      446       33      20     NaN         A  \n",
       "1   414     375      N        W      632       43      10   475.0         N  \n",
       "2   266     263      A        W      880       82      14   480.0         A  \n",
       "3   838     354      N        E      200       11       3   500.0         N  \n",
       "4    46      33      N        E      805       40       4    91.5         N  "
      ]
     },
     "execution_count": 2,
     "metadata": {},
     "output_type": "execute_result"
    }
   ],
   "source": [
    "hitters = pd.read_csv('https://www.dropbox.com/s/boshaqfgdjiaxh4/Hitters.csv?dl=1')\n",
    "hitters.head()"
   ]
  },
  {
   "cell_type": "code",
   "execution_count": 3,
   "metadata": {},
   "outputs": [
    {
     "data": {
      "text/plain": [
       "263"
      ]
     },
     "execution_count": 3,
     "metadata": {},
     "output_type": "execute_result"
    }
   ],
   "source": [
    "hitters = hitters.dropna(subset=['Salary'])\n",
    "len(hitters)"
   ]
  },
  {
   "cell_type": "markdown",
   "metadata": {},
   "source": [
    "I removed 59 observations with missing \"salary\" values because they would interfere with model training and evaluation. Since \"salary\" is the target variable, observations without it can’t help assess model performance. Removing these ensures cross-validation can accurately evaluate the model across all data points. After removing the observations with missing \"salary\" values, there are now 263 observations in the data set."
   ]
  },
  {
   "cell_type": "markdown",
   "metadata": {},
   "source": [
    "# Part I: Different Model Specs"
   ]
  },
  {
   "cell_type": "markdown",
   "metadata": {},
   "source": [
    "## A. Regression without regularization\n",
    "\n",
    "1. Create a pipeline that includes all the columns as predictors for Salary, and performs ordinary linear regression."
   ]
  },
  {
   "cell_type": "code",
   "execution_count": 4,
   "metadata": {},
   "outputs": [],
   "source": [
    "# Define X and y\n",
    "X = hitters.drop(\"Salary\", axis=1)\n",
    "y = hitters[\"Salary\"]\n",
    "\n",
    "# Function to create and evaluate pipeline\n",
    "def create_pipeline(model):\n",
    "  \"\"\"\n",
    "  Creates and fits a pipeline that preprocesses data (standardizes numerical variables and dummifies categorical variables)\n",
    "  and fits the specified regression model.\n",
    "  This function returns the fitted pipeline.\n",
    "\n",
    "    Parameters\n",
    "    ----------\n",
    "    model : estimator object\n",
    "        A sci-kit learn regression model function (e.g., LinearRegression, Ridge, Lasso, ElasticNet) to be used in the pipeline.\n",
    "\n",
    "    Returns\n",
    "    -------\n",
    "    pipeline : Pipeline\n",
    "        The fitted pipeline, including preprocessing and the specified model.\n",
    "  \"\"\"\n",
    "  \n",
    "  ct = ColumnTransformer(\n",
    "    [\n",
    "      (\"dummify\", OneHotEncoder(sparse_output = False, handle_unknown='ignore', drop=\"first\"),\n",
    "       make_column_selector(dtype_include=object)),\n",
    "      (\"standardize\", StandardScaler(), \n",
    "      make_column_selector(dtype_include=np.number))\n",
    "    ],\n",
    "    remainder = \"passthrough\"\n",
    "  )\n",
    "\n",
    "  pipeline = Pipeline(\n",
    "    [(\"preprocessing\", ct),\n",
    "    (\"model\", model)]\n",
    "  )\n",
    "  \n",
    "  # Fit the pipeline to the data\n",
    "  pipeline.fit(X, y)\n",
    "\n",
    "  return pipeline"
   ]
  },
  {
   "cell_type": "markdown",
   "metadata": {},
   "source": [
    "2. Fit this pipeline to the full dataset, and interpret a few of the most important coefficients."
   ]
  },
  {
   "cell_type": "code",
   "execution_count": 5,
   "metadata": {},
   "outputs": [],
   "source": [
    "def get_coefficients(model):\n",
    "  \"\"\"\n",
    "  Creates and fits a pipeline that preprocesses data (standardizes numerical variables and dummifies categorical variables)\n",
    "  and fits the specified regression model. This function returns the model's top predictors based on their coefficients.\n",
    "\n",
    "    Parameters\n",
    "    ----------\n",
    "    model : estimator object\n",
    "        A sci-kit learn regression model function (e.g., LinearRegression, Ridge, Lasso, ElasticNet) to be used in the pipeline.\n",
    "\n",
    "    Returns\n",
    "    -------\n",
    "     coef_df : DataFrame\n",
    "        A DataFrame containing the top predictors with the highest coefficients, sorted in descending order.\n",
    "        Columns:\n",
    "            - \"Predictor\": The feature name after preprocessing.\n",
    "            - \"Coefficient\": The estimated coefficient for each predictor.\n",
    "  \"\"\"\n",
    "  ct = ColumnTransformer(\n",
    "    [\n",
    "      (\"dummify\", OneHotEncoder(sparse_output = False, handle_unknown='ignore', drop=\"first\"),\n",
    "       make_column_selector(dtype_include=object)),\n",
    "      (\"standardize\", StandardScaler(), \n",
    "      make_column_selector(dtype_include=np.number))\n",
    "    ],\n",
    "    remainder = \"passthrough\"\n",
    "  )\n",
    "\n",
    "  pipeline = Pipeline(\n",
    "    [(\"preprocessing\", ct),\n",
    "    (\"model\", model)]).set_output(transform=\"pandas\")\n",
    "\n",
    "  pipeline.fit(X, y)\n",
    "  coefficients = pipeline.named_steps['model'].coef_\n",
    "  var_names = ct.fit_transform(X).columns\n",
    "\n",
    "  coef_df = pd.DataFrame({\n",
    "    \"Predictor\": var_names,\n",
    "    \"Coefficient\": coefficients\n",
    "  }).sort_values(by=\"Coefficient\", key=abs, ascending=False)\n",
    "\n",
    "  return coef_df"
   ]
  },
  {
   "cell_type": "code",
   "execution_count": 6,
   "metadata": {},
   "outputs": [
    {
     "name": "stdout",
     "output_type": "stream",
     "text": [
      "               Predictor  Coefficient\n",
      "13    standardize__CRuns   480.747135\n",
      "10   standardize__CAtBat  -391.038655\n",
      "4      standardize__Hits   337.830479\n",
      "3     standardize__AtBat  -291.094556\n",
      "14     standardize__CRBI   260.689886\n",
      "15   standardize__CWalks  -213.892259\n",
      "8     standardize__Walks   135.073897\n",
      "1    dummify__Division_W  -116.849246\n",
      "11    standardize__CHits    86.687617\n",
      "16  standardize__PutOuts    78.761296\n",
      "0      dummify__League_N    62.599423\n",
      "6      standardize__Runs   -60.572479\n",
      "17  standardize__Assists    53.732490\n",
      "5     standardize__HmRun    37.853837\n",
      "7       standardize__RBI   -26.994984\n",
      "2   dummify__NewLeague_N   -24.762325\n",
      "18   standardize__Errors   -22.160862\n",
      "9     standardize__Years   -16.693359\n",
      "12   standardize__CHmRun   -14.181723\n"
     ]
    }
   ],
   "source": [
    "linear_model = get_coefficients(LinearRegression())\n",
    "print(linear_model)"
   ]
  },
  {
   "cell_type": "markdown",
   "metadata": {},
   "source": [
    "Based on the output, here are interpretations for the most important predictors:  \n",
    "- **CRuns (Coefficient = 480.75)**: A one standard deviation increase in career runs is associated with an increase in salary by approximately $480,750, holding all other variables constant. This positive relationship suggests that players with more career runs tend to be valued more highly in salary terms.  \n",
    "- **CAtBat (Coefficient = -391.04)**: A one standard deviation increase in career at-bats corresponds to a decrease in salary by about $391,040, holding all other variables constant. This negative association may indicate that high at-bat counts alone don’t correlate with higher salary.  \n",
    "- **Hits (Coefficient = 337.83)**: A one standard deviation increase in hits is linked to a salary increase of about $337,830, holding other variables constant. This suggests that hitting performance plays a significant role in salary determination.  "
   ]
  },
  {
   "cell_type": "markdown",
   "metadata": {},
   "source": [
    "3. Use cross-validation to estimate the MSE you would expect if you used this pipeline to predict 1989 salaries."
   ]
  },
  {
   "cell_type": "code",
   "execution_count": 7,
   "metadata": {},
   "outputs": [],
   "source": [
    "def evaluate_pipeline_mse(model):\n",
    "    \"\"\"\n",
    "    Evaluates the mean squared error (MSE) of a model using cross-validation.\n",
    "\n",
    "    Parameters\n",
    "    ----------\n",
    "    model : estimator object\n",
    "        A sci-kit learn regression model function (e.g., LinearRegression, Ridge, Lasso, ElasticNet) to be used in the pipeline.\n",
    "\n",
    "    Returns\n",
    "    -------\n",
    "    mse : float\n",
    "        The mean squared error (MSE) estimated using cross-validation.\n",
    "    \"\"\"\n",
    "\n",
    "    ct = ColumnTransformer(\n",
    "      [\n",
    "      (\"dummify\", OneHotEncoder(sparse_output = False, handle_unknown='ignore', drop=\"first\"),\n",
    "       make_column_selector(dtype_include=object)),\n",
    "      (\"standardize\", StandardScaler(), \n",
    "      make_column_selector(dtype_include=np.number))\n",
    "      ],\n",
    "    remainder = \"passthrough\"\n",
    "  )\n",
    "\n",
    "    pipeline = Pipeline(\n",
    "    [(\"preprocessing\", ct),\n",
    "    (\"model\", model)]\n",
    "  )\n",
    "  \n",
    "    # Fit the pipeline to the data\n",
    "    pipeline.fit(X, y)\n",
    "    \n",
    "    # Cross-validation to estimate the Mean Squared Error (MSE)\n",
    "    mse = -cross_val_score(pipeline, X, y, scoring=\"neg_mean_squared_error\", cv=5).mean()\n",
    "    \n",
    "    print(\"MSE:\", mse)\n",
    "    return mse"
   ]
  },
  {
   "cell_type": "code",
   "execution_count": 8,
   "metadata": {},
   "outputs": [
    {
     "name": "stdout",
     "output_type": "stream",
     "text": [
      "MSE: 121136.3103181688\n"
     ]
    }
   ],
   "source": [
    "linear_mse = evaluate_pipeline_mse(LinearRegression())"
   ]
  },
  {
   "cell_type": "markdown",
   "metadata": {},
   "source": [
    "The Mean Squared Error (MSE) of about 121,136 means that, on average, the squared difference between predicted and actual salaries is quite large. This suggests the model’s predictions may be off by a considerable amount, indicating that the model may need improvement,"
   ]
  },
  {
   "cell_type": "markdown",
   "metadata": {},
   "source": [
    "## B. Ridge regression"
   ]
  },
  {
   "cell_type": "markdown",
   "metadata": {},
   "source": [
    "1. Create a pipeline that includes all the columns as predictors for Salary, and performs ridge regression."
   ]
  },
  {
   "cell_type": "code",
   "execution_count": 9,
   "metadata": {},
   "outputs": [],
   "source": [
    "ridge_pipeline = create_pipeline(model=Ridge())"
   ]
  },
  {
   "cell_type": "markdown",
   "metadata": {},
   "source": [
    "2. Use cross-validation to tune the $\\lambda$ hyperparameter."
   ]
  },
  {
   "cell_type": "code",
   "execution_count": 10,
   "metadata": {},
   "outputs": [],
   "source": [
    "def tune_alpha(pipeline, alpha_values, l1_ratio_values=None):\n",
    "    \"\"\"\n",
    "    Performs cross-validation to tune the alpha (λ) and  l1_ratio (α) hyperparameters for a given model pipeline.\n",
    "\n",
    "    Parameters:\n",
    "    -----------\n",
    "    pipeline : Pipeline object\n",
    "        The pipeline containing preprocessing and a regression model instance (e.g., Ridge, Lasso, ElasticNet).\n",
    "    alpha_values : list\n",
    "        A list of alpha values to test during cross-validation.\n",
    "    l1_ratio_values : list, optional\n",
    "        A list of l1_ratio values to test during cross-validation (only used for ElasticNet).\n",
    "\n",
    "    Returns:\n",
    "    --------\n",
    "    results : DataFrame\n",
    "        A DataFrame showing the alpha values and corresponding mean test scores (MSE).\n",
    "    \"\"\"\n",
    "    \n",
    "    # Define the parameter grid for alpha\n",
    "    param_grid = {'model__alpha': alpha_values}\n",
    "    \n",
    "    # If l1_ratio_values is provided, add it to the grid (for ElasticNet)\n",
    "    if l1_ratio_values is not None:\n",
    "        param_grid['model__l1_ratio'] = l1_ratio_values\n",
    "    \n",
    "    # Set up GridSearchCV with the pipeline, parameter grid, and scoring\n",
    "    gscv = GridSearchCV(estimator=pipeline, param_grid=param_grid, cv=5, scoring='neg_mean_squared_error')\n",
    "    \n",
    "    # Fit the GridSearchCV\n",
    "    gscv_fitted = gscv.fit(X, y)\n",
    "    \n",
    "    # Create a DataFrame with the results\n",
    "    results = pd.DataFrame({\n",
    "        \"alpha\": gscv_fitted.cv_results_['param_model__alpha'].data,\n",
    "        \"mean_test_score\": -gscv_fitted.cv_results_['mean_test_score']  # Convert back to positive MSE\n",
    "    })\n",
    "    \n",
    "    # Include l1_ratio in results if used\n",
    "    if l1_ratio_values is not None:\n",
    "        results[\"l1_ratio\"] = gscv_fitted.cv_results_['param_model__l1_ratio'].data\n",
    "\n",
    "    return results"
   ]
  },
  {
   "cell_type": "code",
   "execution_count": 11,
   "metadata": {},
   "outputs": [
    {
     "name": "stdout",
     "output_type": "stream",
     "text": [
      "     alpha  mean_test_score\n",
      "0    0.001    121124.318914\n",
      "1    0.010    121021.508944\n",
      "2    0.100    120329.936014\n",
      "3    1.000    119034.332720\n",
      "4   10.000    119073.956166\n",
      "5  100.000    121274.424070\n"
     ]
    }
   ],
   "source": [
    "ridge_results = tune_alpha(ridge_pipeline, alpha_values=[0.001, 0.01, 0.1, 1, 10, 100])\n",
    "print(ridge_results)"
   ]
  },
  {
   "cell_type": "markdown",
   "metadata": {},
   "source": [
    "The best value for $\\lambda$ is 1.0 because it yields the lowest MSE of 119034.33"
   ]
  },
  {
   "cell_type": "markdown",
   "metadata": {},
   "source": [
    "3. Fit the pipeline with your chosen $\\lambda$ to the full dataset, and interpret a few of the most important coefficients."
   ]
  },
  {
   "cell_type": "code",
   "execution_count": 12,
   "metadata": {},
   "outputs": [
    {
     "name": "stdout",
     "output_type": "stream",
     "text": [
      "               Predictor  Coefficient\n",
      "13    standardize__CRuns   320.802717\n",
      "4      standardize__Hits   296.801967\n",
      "3     standardize__AtBat  -271.088165\n",
      "10   standardize__CAtBat  -225.511649\n",
      "15   standardize__CWalks  -184.289408\n",
      "14     standardize__CRBI   160.409497\n",
      "11    standardize__CHits   126.210585\n",
      "8     standardize__Walks   124.344012\n",
      "1    dummify__Division_W  -119.076927\n",
      "16  standardize__PutOuts    78.651037\n",
      "0      dummify__League_N    58.555947\n",
      "17  standardize__Assists    47.493631\n",
      "12   standardize__CHmRun    39.055346\n",
      "9     standardize__Years   -38.619131\n",
      "6      standardize__Runs   -29.212352\n",
      "2   dummify__NewLeague_N   -24.027205\n",
      "18   standardize__Errors   -23.651303\n",
      "5     standardize__HmRun    17.973971\n",
      "7       standardize__RBI    -8.909304\n"
     ]
    }
   ],
   "source": [
    "ridge_model = get_coefficients(Ridge(alpha = 1.0))\n",
    "print(ridge_model)"
   ]
  },
  {
   "cell_type": "markdown",
   "metadata": {},
   "source": [
    "Based on the output, here are interpretations for the most important predictors:  \n",
    "- **CRuns (Coefficient = 320.80)**: A one standard deviation increase in career runs is associated with an increase in salary by approximately $320,800, holding all other variables constant. This positive relationship suggests that players with more career runs are generally valued higher in terms of salary.  \n",
    "- **Hits (Coefficient = 296.80)**: A one standard deviation increase in hits is linked to a salary increase of about $296,800, holding other variables constant. This suggests that hitting performance plays a key role in salary determination.  \n",
    "- **AtBat (Coefficient = -271.08)**: A one standard deviation increase in career at-bats corresponds to a decrease in salary by about $271,080, holding all other variables constant. This negative association suggests that more at-bats may be associated with lower salary valuation."
   ]
  },
  {
   "cell_type": "markdown",
   "metadata": {},
   "source": [
    "4. Report the MSE you would expect if you used this pipeline to predict 1989 salaries."
   ]
  },
  {
   "cell_type": "code",
   "execution_count": 13,
   "metadata": {},
   "outputs": [
    {
     "name": "stdout",
     "output_type": "stream",
     "text": [
      "MSE: 119034.33271954537\n"
     ]
    }
   ],
   "source": [
    "ridge_mse = evaluate_pipeline_mse(Ridge(alpha = 1.0))"
   ]
  },
  {
   "cell_type": "markdown",
   "metadata": {},
   "source": [
    "\n",
    "The Ridge regression model with $\\lambda = 1.0$ has an MSE of approximately 119,034, which is slightly lower than the MSE for the linear regression model. This suggests that Ridge's regularization helps improve prediction accuracy by reducing overfitting, making it a more reliable choice for predicting salaries."
   ]
  },
  {
   "cell_type": "markdown",
   "metadata": {},
   "source": [
    "## C. Lasso Regression\n",
    "1. Create a pipeline that includes all the columns as predictors for Salary, and performs Lasso regression."
   ]
  },
  {
   "cell_type": "code",
   "execution_count": 14,
   "metadata": {},
   "outputs": [],
   "source": [
    "lasso_pipeline = create_pipeline(model=Lasso(max_iter=10000))\n",
    "# Set max_iter=10000 to ensure the Lasso model has enough iterations to converge"
   ]
  },
  {
   "cell_type": "markdown",
   "metadata": {},
   "source": [
    "2. Use cross-validation to tune the $\\lambda$ hyperparameter."
   ]
  },
  {
   "cell_type": "code",
   "execution_count": 15,
   "metadata": {},
   "outputs": [
    {
     "name": "stdout",
     "output_type": "stream",
     "text": [
      "     alpha  mean_test_score\n",
      "0    0.001    121132.276754\n",
      "1    0.010    121096.159270\n",
      "2    0.100    120758.508162\n",
      "3    1.000    119758.108873\n",
      "4   10.000    121828.141333\n",
      "5  100.000    143755.162381\n"
     ]
    }
   ],
   "source": [
    "lasso_results = tune_alpha(lasso_pipeline, alpha_values=[0.001, 0.01, 0.1, 1, 10, 100])\n",
    "print(lasso_results)"
   ]
  },
  {
   "cell_type": "markdown",
   "metadata": {},
   "source": [
    "The best value for $\\lambda$ is 1.0 because it yields the lowest MSE of 119758.11."
   ]
  },
  {
   "cell_type": "markdown",
   "metadata": {},
   "source": [
    "3. Fit the pipeline with your chosen $\\lambda$ to the full dataset, and interpret a few of the most important coefficients"
   ]
  },
  {
   "cell_type": "code",
   "execution_count": 16,
   "metadata": {},
   "outputs": [
    {
     "name": "stdout",
     "output_type": "stream",
     "text": [
      "               Predictor  Coefficient\n",
      "13    standardize__CRuns   375.565519\n",
      "4      standardize__Hits   304.359509\n",
      "3     standardize__AtBat  -282.370957\n",
      "14     standardize__CRBI   192.610892\n",
      "15   standardize__CWalks  -189.644642\n",
      "10   standardize__CAtBat  -162.639794\n",
      "8     standardize__Walks   120.695275\n",
      "1    dummify__Division_W  -114.412951\n",
      "16  standardize__PutOuts    78.760366\n",
      "17  standardize__Assists    41.996680\n",
      "0      dummify__League_N    35.826072\n",
      "9     standardize__Years   -34.948148\n",
      "6      standardize__Runs   -24.966507\n",
      "18   standardize__Errors   -18.479378\n",
      "12   standardize__CHmRun    14.225993\n",
      "5     standardize__HmRun    11.127022\n",
      "2   dummify__NewLeague_N    -0.000000\n",
      "7       standardize__RBI    -0.000000\n",
      "11    standardize__CHits     0.000000\n"
     ]
    }
   ],
   "source": [
    "lasso_model = get_coefficients(Lasso(alpha = 1.0))\n",
    "print(lasso_model)"
   ]
  },
  {
   "cell_type": "markdown",
   "metadata": {},
   "source": [
    "Based on the output, here are interpretations for the most important predictors:  \n",
    "- **CRuns (Coefficient = 375.57)**: A one standard deviation increase in career runs is associated with an increase in salary by approximately $375,570, holding all other variables constant. This positive relationship suggests that players with more career runs are generally valued higher in terms of salary.  \n",
    "- **Hits (Coefficient = 304.36)**: A one standard deviation increase in hits is linked to a salary increase of about $304,360, holding other variables constant. This suggests that hitting performance plays a key role in salary determination.  \n",
    "- **AtBat (Coefficient = -282.38)**: A one standard deviation increase in career at-bats corresponds to a decrease in salary by about $282,380, holding all other variables constant. This negative association suggests that more at-bats may be associated with lower salary valuation."
   ]
  },
  {
   "cell_type": "markdown",
   "metadata": {},
   "source": [
    "4. Report the MSE you would expect if you used this pipeline to predict 1989 salaries."
   ]
  },
  {
   "cell_type": "code",
   "execution_count": 17,
   "metadata": {},
   "outputs": [
    {
     "name": "stdout",
     "output_type": "stream",
     "text": [
      "MSE: 119758.10887295294\n"
     ]
    }
   ],
   "source": [
    "lasso_mse = evaluate_pipeline_mse(Lasso(alpha=1.0, max_iter=10000))"
   ]
  },
  {
   "cell_type": "markdown",
   "metadata": {},
   "source": [
    "The Lasso model with $\\lambda = 1.0$ has an MSE of approximately 119,758, which is slightly lower than the MSE of the Linear Regression model (121,136) and very close to the Ridge Regression model's MSE (119,034). This result suggests that Lasso’s feature selection and Ridge’s shrinkage both contribute to slightly improved predictive accuracy over the Linear model. However, Ridge performed the best, indicating that while Lasso’s feature selection is helpful, the Ridge model’s approach to regularization is more effective for minimizing error in this dataset"
   ]
  },
  {
   "cell_type": "markdown",
   "metadata": {},
   "source": [
    "## D. Elastic Net\n",
    "1. Create a pipeline that includes all the columns as predictors for Salary, and performs elastic net."
   ]
  },
  {
   "cell_type": "code",
   "execution_count": 18,
   "metadata": {},
   "outputs": [],
   "source": [
    "elastic_pipeline = create_pipeline(model=ElasticNet(max_iter=100000))"
   ]
  },
  {
   "cell_type": "markdown",
   "metadata": {},
   "source": [
    "2. Use cross-validation to tune the $\\lambda$ and $\\alpha$ hyperparameters."
   ]
  },
  {
   "cell_type": "code",
   "execution_count": 19,
   "metadata": {},
   "outputs": [
    {
     "name": "stdout",
     "output_type": "stream",
     "text": [
      "    alpha  mean_test_score  l1_ratio\n",
      "16   0.10    118750.189196       0.8\n",
      "17   0.10    118794.049617       0.9\n",
      "6    0.01    118802.210703       0.1\n",
      "15   0.10    118841.088130       0.7\n",
      "7    0.01    118880.541026       0.3\n"
     ]
    }
   ],
   "source": [
    "elastic_results = tune_alpha(elastic_pipeline, alpha_values=[0.001, 0.01, 0.1, 1, 10, 100], l1_ratio_values=[0.1, 0.3, 0.5, 0.7, 0.8, 0.9])\n",
    "print(elastic_results.sort_values(by='mean_test_score', ascending=True).head(5))"
   ]
  },
  {
   "cell_type": "markdown",
   "metadata": {},
   "source": [
    "The best parameter values are $\\lambda = 0.1$ and $\\alpha = 0.8$ because they yield the lowest MSE of 118750.19."
   ]
  },
  {
   "cell_type": "markdown",
   "metadata": {},
   "source": [
    "3. Fit the pipeline with your chosen hyperparameters to the full dataset, and interpret a few of the most important coefficients."
   ]
  },
  {
   "cell_type": "code",
   "execution_count": 20,
   "metadata": {},
   "outputs": [
    {
     "name": "stdout",
     "output_type": "stream",
     "text": [
      "               Predictor  Coefficient\n",
      "4      standardize__Hits   200.830729\n",
      "3     standardize__AtBat  -186.181515\n",
      "13    standardize__CRuns   163.907498\n",
      "15   standardize__CWalks  -125.175493\n",
      "1    dummify__Division_W  -116.818145\n",
      "11    standardize__CHits   110.173426\n",
      "14     standardize__CRBI   104.504476\n",
      "8     standardize__Walks    97.341332\n",
      "16  standardize__PutOuts    76.907372\n",
      "12   standardize__CHmRun    59.364022\n",
      "10   standardize__CAtBat   -57.402148\n",
      "9     standardize__Years   -52.040838\n",
      "0      dummify__League_N    45.390029\n",
      "17  standardize__Assists    35.091056\n",
      "18   standardize__Errors   -24.758404\n",
      "2   dummify__NewLeague_N   -12.909402\n",
      "7       standardize__RBI    10.165051\n",
      "6      standardize__Runs     9.950553\n",
      "5     standardize__HmRun    -3.812007\n"
     ]
    }
   ],
   "source": [
    "elastic_model = get_coefficients(ElasticNet(alpha=0.1, l1_ratio=0.8))\n",
    "print(elastic_model)"
   ]
  },
  {
   "cell_type": "markdown",
   "metadata": {},
   "source": [
    "Based on the output, here are interpretations for the most important predictors:  \n",
    "- **Hits (Coefficient = 200.83)**: A one standard deviation increase in hits is linked to a salary increase of about $200,830, holding other variables constant. This suggests that hitting performance plays a key role in salary determination.  \n",
    "- **AtBat (Coefficient = -186.18)**: A one standard deviation increase in career at-bats corresponds to a decrease in salary by about $186,180, holding all other variables constant. This negative association suggests that more at-bats may be associated with lower salary valuation.  \n",
    "- **CRuns (Coefficient = 163.10)**: A one standard deviation increase in career runs is associated with an increase in salary by approximately $163,100, holding all other variables constant. This positive relationship suggests that players with more career runs are generally valued higher in terms of salary.  "
   ]
  },
  {
   "cell_type": "markdown",
   "metadata": {},
   "source": [
    "4. Report the MSE you would expect if you used this pipeline to predict 1989 salaries."
   ]
  },
  {
   "cell_type": "code",
   "execution_count": 21,
   "metadata": {},
   "outputs": [
    {
     "name": "stdout",
     "output_type": "stream",
     "text": [
      "MSE: 118750.18919600834\n"
     ]
    }
   ],
   "source": [
    "elastic_mse = evaluate_pipeline_mse(ElasticNet(alpha=0.1, l1_ratio=0.8, max_iter=10000))"
   ]
  },
  {
   "cell_type": "markdown",
   "metadata": {},
   "source": [
    "The MSE for the Elastic Net model (118750.19) is slightly lower than the MSEs of Ridge (119034.33) and Lasso (119758.11), and notably lower than the Linear Regression MSE (121136.31). This indicates that Elastic Net gives the most accurate predictions among these models."
   ]
  },
  {
   "cell_type": "markdown",
   "metadata": {},
   "source": [
    "# Part II. Variable Selection\n",
    "Based on the above results, decide on:\n",
    "- Which numeric variable is most important.\n",
    "- Which five numeric variables are most important\n",
    "- Which categorical variable is most important\n",
    "\n",
    "For each of the four model specifications, compare the following possible feature sets:\n",
    "\n",
    "1. Using only the one best numeric variable.\n",
    "2. Using only the five best variables.\n",
    "3. Using the five best numeric variables and their interactions with the one best categorical variable.\n",
    "\n",
    "Report which combination of features and model performed best, based on the validation metric of MSE.\n",
    "\n",
    "(Note: $\\lambda$ and $\\alpha$ must be re-tuned for each feature set.)"
   ]
  },
  {
   "cell_type": "markdown",
   "metadata": {},
   "source": [
    "**CRuns** is the most important numeric variable because it appeared most often as a top variable across all models. The five most important numeric variables are **CRuns**, **Hits**, **AtBat**, **CRBI**, and **CWalks** because they appeared the most frequently among the top coefficients across models. **Division** is the most important categorical variable because it was the categorical variable that appeared the highest across all models."
   ]
  },
  {
   "cell_type": "markdown",
   "metadata": {},
   "source": [
    "## Model 1: Using the Best Numeric Variable"
   ]
  },
  {
   "cell_type": "code",
   "execution_count": 22,
   "metadata": {},
   "outputs": [],
   "source": [
    "def create_model1_pipeline(model):\n",
    "  \"\"\"\n",
    "   Creates and fits a pipeline for Model 1, which includes preprocessing steps for the CRuns variable (standardization) and fits the specified regression model.\n",
    "\n",
    "    Parameters\n",
    "    ----------\n",
    "    model : estimator object\n",
    "        A sci-kit learn regression model function (e.g., LinearRegression, Ridge, Lasso, ElasticNet) to be used in the pipeline.\n",
    "\n",
    "    Returns\n",
    "    -------\n",
    "    pipeline : Pipeline\n",
    "        The fitted pipeline, including preprocessing and the specified model.\n",
    "  \"\"\"\n",
    "  \n",
    "  ct = ColumnTransformer(\n",
    "    [\n",
    "      (\"standardize\", StandardScaler(), [\"CRuns\"]) \n",
    "    ],\n",
    "    remainder = \"drop\"\n",
    "  )\n",
    "\n",
    "  pipeline = Pipeline(\n",
    "    [(\"preprocessing\", ct),\n",
    "    (\"model\", model)]\n",
    "  )\n",
    "  \n",
    "  # Fit the pipeline to the data\n",
    "  pipeline.fit(X, y)\n",
    "\n",
    "  return pipeline"
   ]
  },
  {
   "cell_type": "code",
   "execution_count": 23,
   "metadata": {},
   "outputs": [],
   "source": [
    "def model1_mse(model):\n",
    "    \"\"\"\n",
    "    Evaluates the mean squared error (MSE) of Model 1 (using CRuns as the predictor) using cross-validation.\n",
    "\n",
    "    Parameters\n",
    "    ----------\n",
    "    model : estimator object\n",
    "        A sci-kit learn regression model function (e.g., LinearRegression, Ridge, Lasso, ElasticNet) to be used in the pipeline.\n",
    "\n",
    "    Returns\n",
    "    -------\n",
    "    mse : float\n",
    "        The mean squared error (MSE) estimated using cross-validation.\n",
    "    \"\"\"\n",
    "\n",
    "    ct = ColumnTransformer(\n",
    "      [\n",
    "      (\"standardize\", StandardScaler(), [\"CRuns\"])\n",
    "      ],\n",
    "    remainder = \"drop\"\n",
    "  )\n",
    "\n",
    "    pipeline = Pipeline(\n",
    "    [(\"preprocessing\", ct),\n",
    "    (\"model\", model)]\n",
    "  )\n",
    "  \n",
    "    # Fit the pipeline to the data\n",
    "    pipeline.fit(X, y)\n",
    "    \n",
    "    # Cross-validation to estimate the Mean Squared Error (MSE)\n",
    "    mse = -cross_val_score(pipeline, X, y, scoring=\"neg_mean_squared_error\", cv=5).mean()\n",
    "    \n",
    "    print(\"MSE:\", mse)\n",
    "    return mse"
   ]
  },
  {
   "cell_type": "markdown",
   "metadata": {},
   "source": [
    "### Linear Regression"
   ]
  },
  {
   "cell_type": "code",
   "execution_count": 24,
   "metadata": {},
   "outputs": [
    {
     "name": "stdout",
     "output_type": "stream",
     "text": [
      "MSE: 143812.93591629734\n"
     ]
    }
   ],
   "source": [
    "# Linear Regression\n",
    "linear_mse1 = model1_mse(LinearRegression())"
   ]
  },
  {
   "cell_type": "markdown",
   "metadata": {},
   "source": [
    "### Ridge Regression"
   ]
  },
  {
   "cell_type": "code",
   "execution_count": 25,
   "metadata": {},
   "outputs": [
    {
     "name": "stdout",
     "output_type": "stream",
     "text": [
      "     alpha  mean_test_score\n",
      "0    0.001    143812.905015\n",
      "1    0.010    143812.627051\n",
      "2    0.100    143809.862456\n",
      "3    1.000    143783.706854\n",
      "4   10.000    143658.517369\n",
      "5  100.000    148807.783475\n",
      "MSE: 143658.5173685888\n"
     ]
    }
   ],
   "source": [
    "# Ridge Regression\n",
    "ridge_pipeline1 = create_model1_pipeline(model=Ridge()) # Fit pipeline\n",
    "\n",
    "# Tune the alpha (λ) hyperparameter\n",
    "ridge_results1 = tune_alpha(ridge_pipeline1, alpha_values=[0.001, 0.01, 0.1, 1, 10, 100])\n",
    "print(ridge_results1)\n",
    "\n",
    "ridge_mse1 = model1_mse(Ridge(alpha = 10))"
   ]
  },
  {
   "cell_type": "markdown",
   "metadata": {},
   "source": [
    "### Lasso Regression"
   ]
  },
  {
   "cell_type": "code",
   "execution_count": 26,
   "metadata": {},
   "outputs": [
    {
     "name": "stdout",
     "output_type": "stream",
     "text": [
      "     alpha  mean_test_score\n",
      "0    0.001    143812.923545\n",
      "1    0.010    143812.812299\n",
      "2    0.100    143811.709122\n",
      "3    1.000    143801.606084\n",
      "4   10.000    143793.449159\n",
      "5  100.000    152999.224797\n",
      "MSE: 143793.4491585397\n"
     ]
    }
   ],
   "source": [
    "# Lasso Regression\n",
    "lasso_pipeline1 = create_model1_pipeline(model=Lasso()) # Fit pipeline\n",
    "\n",
    "# Tune the alpha (λ) hyperparameter\n",
    "lasso_results1 = tune_alpha(lasso_pipeline1, alpha_values=[0.001, 0.01, 0.1, 1, 10, 100])\n",
    "print(lasso_results1) # Tune for best alpha value\n",
    "\n",
    "lasso_mse1 = model1_mse(Lasso(alpha = 10))"
   ]
  },
  {
   "cell_type": "markdown",
   "metadata": {},
   "source": [
    "### Elastic Net"
   ]
  },
  {
   "cell_type": "code",
   "execution_count": 27,
   "metadata": {},
   "outputs": [
    {
     "name": "stdout",
     "output_type": "stream",
     "text": [
      "    alpha  mean_test_score  l1_ratio\n",
      "14    0.1    143655.076048       0.5\n",
      "13    0.1    143675.521978       0.3\n",
      "15    0.1    143679.366378       0.7\n",
      "16    0.1    143709.955158       0.8\n",
      "12    0.1    143735.873327       0.1\n",
      "MSE: 143655.07604766646\n"
     ]
    }
   ],
   "source": [
    "# Elastic Net\n",
    "elastic_pipeline1 = create_model1_pipeline(model=ElasticNet()) # Fit pipeline\n",
    "\n",
    "# Tune the alpha (λ) l1_ratio (α) hyperparameters\n",
    "elastic_results1 = tune_alpha(elastic_pipeline1, alpha_values=[0.001, 0.01, 0.1, 1, 10, 100], l1_ratio_values=[0.1, 0.3, 0.5, 0.7, 0.8, 0.9])\n",
    "print(elastic_results1.sort_values(by='mean_test_score', ascending=True).head(5))\n",
    "\n",
    "elastic_mse1 = model1_mse(ElasticNet(alpha=0.1, l1_ratio=0.5, max_iter=10000))"
   ]
  },
  {
   "cell_type": "markdown",
   "metadata": {},
   "source": [
    "## Model 2: Using only the five best variables"
   ]
  },
  {
   "cell_type": "code",
   "execution_count": 28,
   "metadata": {},
   "outputs": [],
   "source": [
    "def create_model2_pipeline(model):\n",
    "  \"\"\"\n",
    "   Creates and fits a pipeline for Model 2, which includes preprocessing steps for the five best numerical variables (standardization) and fits the specified regression model.\n",
    "\n",
    "    Parameters\n",
    "    ----------\n",
    "    model : estimator object\n",
    "        A sci-kit learn regression model function (e.g., LinearRegression, Ridge, Lasso, ElasticNet) to be used in the pipeline.\n",
    "\n",
    "    Returns\n",
    "    -------\n",
    "    pipeline : Pipeline\n",
    "        The fitted pipeline, including preprocessing and the specified model.\n",
    "  \"\"\"\n",
    "  \n",
    "  ct = ColumnTransformer(\n",
    "    [\n",
    "      (\"standardize\", StandardScaler(), [\"CRuns\", \"Hits\", \"AtBat\", \"CRBI\", \"CWalks\"]) \n",
    "    ],\n",
    "    remainder = \"drop\"\n",
    "  )\n",
    "\n",
    "  pipeline = Pipeline(\n",
    "    [(\"preprocessing\", ct),\n",
    "    (\"model\", model)]\n",
    "  )\n",
    "  \n",
    "  # Fit the pipeline to the data\n",
    "  pipeline.fit(X, y)\n",
    "\n",
    "  return pipeline"
   ]
  },
  {
   "cell_type": "code",
   "execution_count": 29,
   "metadata": {},
   "outputs": [],
   "source": [
    "def model2_mse(model):\n",
    "    \"\"\"\n",
    "    Evaluates the mean squared error (MSE) of Model 2 (using the 5 best variables) using cross-validation.\n",
    "\n",
    "    Parameters\n",
    "    ----------\n",
    "    model : estimator object\n",
    "        A sci-kit learn regression model function (e.g., LinearRegression, Ridge, Lasso, ElasticNet) to be used in the pipeline.\n",
    "\n",
    "    Returns\n",
    "    -------\n",
    "    mse : float\n",
    "        The mean squared error (MSE) estimated using cross-validation.\n",
    "    \"\"\"\n",
    "\n",
    "    ct = ColumnTransformer(\n",
    "      [\n",
    "      (\"standardize\", StandardScaler(), [\"CRuns\", \"Hits\", \"AtBat\", \"CRBI\", \"CWalks\"])\n",
    "      ],\n",
    "    remainder = \"drop\"\n",
    "  )\n",
    "\n",
    "    pipeline = Pipeline(\n",
    "    [(\"preprocessing\", ct),\n",
    "    (\"model\", model)]\n",
    "  )\n",
    "  \n",
    "    # Fit the pipeline to the data\n",
    "    pipeline.fit(X, y)\n",
    "    \n",
    "    # Cross-validation to estimate the Mean Squared Error (MSE)\n",
    "    mse = -cross_val_score(pipeline, X, y, scoring=\"neg_mean_squared_error\", cv=5).mean()\n",
    "    \n",
    "    print(\"MSE:\", mse)\n",
    "    return mse"
   ]
  },
  {
   "cell_type": "markdown",
   "metadata": {},
   "source": [
    "### Linear Regression"
   ]
  },
  {
   "cell_type": "code",
   "execution_count": 30,
   "metadata": {},
   "outputs": [
    {
     "name": "stdout",
     "output_type": "stream",
     "text": [
      "MSE: 125502.85287637594\n"
     ]
    }
   ],
   "source": [
    "# Linear Regression\n",
    "linear_mse2 = model2_mse(LinearRegression())"
   ]
  },
  {
   "cell_type": "markdown",
   "metadata": {},
   "source": [
    "### Ridge Regression"
   ]
  },
  {
   "cell_type": "code",
   "execution_count": 31,
   "metadata": {},
   "outputs": [
    {
     "name": "stdout",
     "output_type": "stream",
     "text": [
      "     alpha  mean_test_score\n",
      "0    0.001    125502.330042\n",
      "1    0.010    125497.642843\n",
      "2    0.100    125452.540281\n",
      "3    1.000    125142.787641\n",
      "4   10.000    125412.154870\n",
      "5  100.000    127905.951040\n",
      "MSE: 125142.7876409917\n"
     ]
    }
   ],
   "source": [
    "# Ridge Regression\n",
    "ridge_pipeline2 = create_model2_pipeline(model=Ridge()) # Fit pipeline\n",
    "\n",
    "# Tune the alpha (λ) hyperparameter\n",
    "ridge_results2 = tune_alpha(ridge_pipeline2, alpha_values=[0.001, 0.01, 0.1, 1, 10, 100])\n",
    "print(ridge_results2)\n",
    "\n",
    "ridge_mse2 = model2_mse(Ridge(alpha = 1))"
   ]
  },
  {
   "cell_type": "markdown",
   "metadata": {},
   "source": [
    "### Lasso Regression"
   ]
  },
  {
   "cell_type": "code",
   "execution_count": 32,
   "metadata": {},
   "outputs": [
    {
     "name": "stdout",
     "output_type": "stream",
     "text": [
      "     alpha  mean_test_score\n",
      "0    0.001    125502.224707\n",
      "1    0.010    125496.582161\n",
      "2    0.100    125441.230264\n",
      "3    1.000    125289.760333\n",
      "4   10.000    127513.373734\n",
      "5  100.000    144291.486081\n",
      "MSE: 125289.76033255171\n"
     ]
    }
   ],
   "source": [
    "# Lasso Regression\n",
    "lasso_pipeline2 = create_model2_pipeline(model=Lasso()) # Fit pipeline\n",
    "\n",
    "# Tune the alpha (λ) hyperparameter\n",
    "lasso_results2 = tune_alpha(lasso_pipeline2, alpha_values=[0.001, 0.01, 0.1, 1, 10, 100])\n",
    "print(lasso_results2) # Tune for best alpha value\n",
    "\n",
    "lasso_mse2 = model2_mse(Lasso(alpha = 1))"
   ]
  },
  {
   "cell_type": "markdown",
   "metadata": {},
   "source": [
    "### Elastic Net"
   ]
  },
  {
   "cell_type": "code",
   "execution_count": 33,
   "metadata": {},
   "outputs": [
    {
     "name": "stdout",
     "output_type": "stream",
     "text": [
      "    alpha  mean_test_score  l1_ratio\n",
      "17   0.10    124989.381529       0.9\n",
      "16   0.10    124995.989223       0.8\n",
      "6    0.01    125002.547514       0.1\n",
      "7    0.01    125052.964482       0.3\n",
      "8    0.01    125129.784043       0.5\n",
      "MSE: 124989.38152900881\n"
     ]
    }
   ],
   "source": [
    "# Elastic Net\n",
    "elastic_pipeline2 = create_model2_pipeline(model=ElasticNet()) # Fit pipeline\n",
    "\n",
    "# Tune the alpha (λ) l1_ratio (α) hyperparameters\n",
    "elastic_results2 = tune_alpha(elastic_pipeline2, alpha_values=[0.001, 0.01, 0.1, 1, 10, 100], l1_ratio_values=[0.1, 0.3, 0.5, 0.7, 0.8, 0.9])\n",
    "print(elastic_results2.sort_values(by='mean_test_score', ascending=True).head(5))\n",
    "\n",
    "elastic_mse2 = model2_mse(ElasticNet(alpha=0.1, l1_ratio=0.9, max_iter=10000))"
   ]
  },
  {
   "cell_type": "markdown",
   "metadata": {},
   "source": [
    "## Model 3: Using the five best numeric variables and their interactions with the one best categorical variable"
   ]
  },
  {
   "cell_type": "code",
   "execution_count": 34,
   "metadata": {},
   "outputs": [],
   "source": [
    "def create_model3_pipeline(model):\n",
    "  \"\"\"\n",
    "   Creates and fits a pipeline for Model 3, which includes preprocessing steps for the top five numerical variables\n",
    "   (standardization) and the one most important categorical variable (dummify). The pipeline also generates\n",
    "   interaction terms between these variables and fits the specified regression model.\n",
    "\n",
    "    Parameters\n",
    "    ----------\n",
    "    model : estimator object\n",
    "        A sci-kit learn regression model function (e.g., LinearRegression, Ridge, Lasso, ElasticNet) to be used in the pipeline.\n",
    "\n",
    "    Returns\n",
    "    -------\n",
    "    pipeline : Pipeline\n",
    "        The fitted pipeline, including preprocessing and the specified model.\n",
    "  \"\"\"\n",
    "\n",
    "  # Create the column transformer for encoding and scaling\n",
    "  ct = ColumnTransformer([\n",
    "      (\"dummify\", OneHotEncoder(sparse_output=False, drop=\"first\"), [\"Division\"]),\n",
    "      (\"standardize\", StandardScaler(), [\"CRuns\", \"Hits\", \"AtBat\", \"CRBI\", \"CWalks\"])\n",
    "    ], remainder=\"drop\").set_output(transform=\"pandas\")\n",
    "\n",
    "  # Create the interaction transformer using the transformed column names\n",
    "  ct_inter = ColumnTransformer([\n",
    "      (\"interaction1\", PolynomialFeatures(interaction_only=True), [\"dummify__Division_W\", \"standardize__CRuns\"]),\n",
    "      (\"interaction2\", PolynomialFeatures(interaction_only=True), [\"dummify__Division_W\", \"standardize__Hits\"]),\n",
    "      (\"interaction3\", PolynomialFeatures(interaction_only=True), [\"dummify__Division_W\", \"standardize__AtBat\"]),\n",
    "      (\"interaction4\", PolynomialFeatures(interaction_only=True), [\"dummify__Division_W\", \"standardize__CRBI\"]),\n",
    "      (\"interaction5\", PolynomialFeatures(interaction_only=True), [\"dummify__Division_W\", \"standardize__CWalks\"]),\n",
    "    ], remainder=\"drop\")\n",
    "\n",
    "  # Define the final pipeline with preprocessing and model\n",
    "  pipeline = Pipeline([\n",
    "      (\"preprocessing\", ct),\n",
    "      (\"interactions\", ct_inter),\n",
    "      (\"model\", model)\n",
    "    ])\n",
    "\n",
    "  # Fit the pipeline to the data\n",
    "  pipeline.fit(X, y)\n",
    "\n",
    "  return pipeline"
   ]
  },
  {
   "cell_type": "code",
   "execution_count": 35,
   "metadata": {},
   "outputs": [],
   "source": [
    "def model3_mse(model):\n",
    "    \"\"\"\n",
    "    Evaluates the mean squared error (MSE) of Model 3 (using the 5 best variables and their interactions\n",
    "    with the one best categorical variable) using cross-validation.\n",
    "\n",
    "    Parameters\n",
    "    ----------\n",
    "    model : estimator object\n",
    "        A scikit-learn regression model function (e.g., LinearRegression, Ridge, Lasso, ElasticNet)\n",
    "        to be used in the pipeline.\n",
    "\n",
    "    Returns\n",
    "    -------\n",
    "    mse : float\n",
    "        The mean squared error (MSE) estimated using cross-validation.\n",
    "    \"\"\"\n",
    "    # Create the column transformer for encoding and scaling\n",
    "    ct = ColumnTransformer([\n",
    "        (\"dummify\", OneHotEncoder(sparse_output=False, drop=\"first\"), [\"Division\"]),\n",
    "        (\"standardize\", StandardScaler(), [\"CRuns\", \"Hits\", \"AtBat\", \"CRBI\", \"CWalks\"])\n",
    "    ], remainder=\"drop\").set_output(transform=\"pandas\")\n",
    "\n",
    "    # Create the interaction transformer using the transformed column names\n",
    "    ct_inter = ColumnTransformer([\n",
    "      (\"interaction1\", PolynomialFeatures(interaction_only=True), [\"dummify__Division_W\", \"standardize__CRuns\"]),\n",
    "      (\"interaction2\", PolynomialFeatures(interaction_only=True), [\"dummify__Division_W\", \"standardize__Hits\"]),\n",
    "      (\"interaction3\", PolynomialFeatures(interaction_only=True), [\"dummify__Division_W\", \"standardize__AtBat\"]),\n",
    "      (\"interaction4\", PolynomialFeatures(interaction_only=True), [\"dummify__Division_W\", \"standardize__CRBI\"]),\n",
    "      (\"interaction5\", PolynomialFeatures(interaction_only=True), [\"dummify__Division_W\", \"standardize__CWalks\"]),\n",
    "    ], remainder=\"drop\")\n",
    "\n",
    "    # Define the final pipeline with preprocessing and model\n",
    "    pipeline = Pipeline([\n",
    "        (\"preprocessing\", ct),\n",
    "        (\"interactions\", ct_inter),\n",
    "        (\"model\", model)\n",
    "    ])\n",
    "\n",
    "    # Fit the pipeline to the data\n",
    "    pipeline.fit(X, y)\n",
    "\n",
    "    mse = -cross_val_score(pipeline, X, y, scoring=\"neg_mean_squared_error\", cv=5).mean()\n",
    "    print(\"MSE:\", mse)\n",
    "    return mse\n"
   ]
  },
  {
   "cell_type": "markdown",
   "metadata": {},
   "source": [
    "### Linear Regression"
   ]
  },
  {
   "cell_type": "code",
   "execution_count": 36,
   "metadata": {},
   "outputs": [
    {
     "name": "stdout",
     "output_type": "stream",
     "text": [
      "MSE: 134745.99897600288\n"
     ]
    }
   ],
   "source": [
    "# Linear Regression\n",
    "linear_mse3 = model3_mse(LinearRegression())"
   ]
  },
  {
   "cell_type": "markdown",
   "metadata": {},
   "source": [
    "### Ridge Regression"
   ]
  },
  {
   "cell_type": "code",
   "execution_count": 37,
   "metadata": {},
   "outputs": [
    {
     "name": "stdout",
     "output_type": "stream",
     "text": [
      "     alpha  mean_test_score\n",
      "0    0.001    132045.830579\n",
      "1    0.010    131966.330136\n",
      "2    0.100    131248.712333\n",
      "3    1.000    127743.182264\n",
      "4   10.000    123190.260739\n",
      "5  100.000    124217.413526\n",
      "MSE: 123190.26073886268\n"
     ]
    }
   ],
   "source": [
    "# Ridge Regression\n",
    "ridge_pipeline3 = create_model3_pipeline(model=Ridge()) # Fit pipeline\n",
    "\n",
    "# Tune the alpha (λ) hyperparameter\n",
    "ridge_results3 = tune_alpha(ridge_pipeline3, alpha_values=[0.001, 0.01, 0.1, 1, 10, 100])\n",
    "print(ridge_results3)\n",
    "\n",
    "ridge_mse3 = model3_mse(Ridge(alpha = 10))"
   ]
  },
  {
   "cell_type": "markdown",
   "metadata": {},
   "source": [
    "### Lasso Regression"
   ]
  },
  {
   "cell_type": "code",
   "execution_count": 38,
   "metadata": {},
   "outputs": [
    {
     "name": "stdout",
     "output_type": "stream",
     "text": [
      "     alpha  mean_test_score\n",
      "0    0.001    132051.803374\n",
      "1    0.010    132025.609422\n",
      "2    0.100    131775.411581\n",
      "3    1.000    129663.854404\n",
      "4   10.000    124548.024883\n",
      "5  100.000    144291.486081\n",
      "MSE: 124548.02488285527\n"
     ]
    }
   ],
   "source": [
    "# Lasso Regression\n",
    "lasso_pipeline3 = create_model3_pipeline(model=Lasso(max_iter=10000)) # Fit pipeline\n",
    "\n",
    "# Tune the alpha (λ) hyperparameter\n",
    "lasso_results3 = tune_alpha(lasso_pipeline3, alpha_values=[0.001, 0.01, 0.1, 1, 10, 100])\n",
    "print(lasso_results3) # Tune for best alpha value\n",
    "\n",
    "lasso_mse3 = model3_mse(Lasso(alpha = 10, max_iter=10000))"
   ]
  },
  {
   "cell_type": "markdown",
   "metadata": {},
   "source": [
    "### Elastic Net"
   ]
  },
  {
   "cell_type": "code",
   "execution_count": 39,
   "metadata": {},
   "outputs": [
    {
     "name": "stdout",
     "output_type": "stream",
     "text": [
      "    alpha  mean_test_score  l1_ratio\n",
      "23    1.0    122258.447811       0.9\n",
      "22    1.0    122391.527426       0.8\n",
      "12    0.1    122490.743034       0.1\n",
      "13    0.1    122709.008677       0.3\n",
      "21    1.0    122953.748223       0.7\n",
      "MSE: 122258.44781113428\n"
     ]
    }
   ],
   "source": [
    "# Elastic Net\n",
    "elastic_pipeline3 = create_model3_pipeline(model=ElasticNet(max_iter=100000)) # Fit pipeline\n",
    "\n",
    "# Tune the alpha (λ) l1_ratio (α) hyperparameters\n",
    "elastic_results3 = tune_alpha(elastic_pipeline3, alpha_values=[0.001, 0.01, 0.1, 1, 10, 100], l1_ratio_values=[0.1, 0.3, 0.5, 0.7, 0.8, 0.9])\n",
    "print(elastic_results3.sort_values(by='mean_test_score', ascending=True).head(5))\n",
    "\n",
    "elastic_mse3 = model3_mse(ElasticNet(alpha=1, l1_ratio=0.9, max_iter=100000))"
   ]
  },
  {
   "cell_type": "code",
   "execution_count": 40,
   "metadata": {},
   "outputs": [
    {
     "name": "stdout",
     "output_type": "stream",
     "text": [
      "     Regression    Model            MSE\n",
      "11  Elastic_Net  Model 3  122258.447811\n",
      "9         Ridge  Model 3  123190.260739\n",
      "10        Lasso  Model 3  124548.024883\n",
      "7   Elastic_Net  Model 2  124989.381529\n",
      "5         Ridge  Model 2  125142.787641\n",
      "6         Lasso  Model 2  125289.760333\n",
      "4        Linear  Model 2  125502.852876\n",
      "8        Linear  Model 3  134745.998976\n",
      "3   Elastic_Net  Model 1  143655.076048\n",
      "1         Ridge  Model 1  143658.517369\n",
      "2         Lasso  Model 1  143793.449159\n",
      "0        Linear  Model 1  143812.935916\n"
     ]
    }
   ],
   "source": [
    "data = {\n",
    "    \"Regression\": [\"Linear\", \"Ridge\", \"Lasso\", \"Elastic_Net\"] * 3,\n",
    "    \"Model\": [\"Model 1\"] * 4 + [\"Model 2\"] * 4 + [\"Model 3\"] * 4,\n",
    "    \"MSE\": [\n",
    "        linear_mse1, ridge_mse1, lasso_mse1, elastic_mse1,\n",
    "        linear_mse2, ridge_mse2, lasso_mse2, elastic_mse2,\n",
    "        linear_mse3, ridge_mse3, lasso_mse3, elastic_mse3\n",
    "    ]\n",
    "}\n",
    "\n",
    "mse_df = pd.DataFrame(data)\n",
    "\n",
    "print(mse_df.sort_values(by=\"MSE\", ascending=True))"
   ]
  },
  {
   "cell_type": "markdown",
   "metadata": {},
   "source": [
    "The best-performing combination is Model 3 with the Elastic Net regression, which achieved the lowest MSE of 122258.45. This suggests that using the five best numeric variables along with their interactions with the best categorical variable (Division) and applying Elastic Net regression provides the most accurate predictions according to the validation metric."
   ]
  },
  {
   "cell_type": "markdown",
   "metadata": {},
   "source": [
    "# Part III. Discussion"
   ]
  },
  {
   "cell_type": "markdown",
   "metadata": {},
   "source": [
    "## A. Ridge\n",
    "Compare your Ridge models with your ordinary regression models. How did your coefficients compare? Why does this make sense?"
   ]
  },
  {
   "cell_type": "code",
   "execution_count": 41,
   "metadata": {},
   "outputs": [],
   "source": [
    "# Define function to get coefficients for a specific model and regression type\n",
    "def get_coefficients2(model_pipeline, model_type):\n",
    "    \"\"\"\n",
    "    Fits a pipeline with the specified model and returns the coefficients as a DataFrame.\n",
    "    \n",
    "    Parameters:\n",
    "    - model_pipeline: function, to create the pipeline\n",
    "    - model_type: model instance, regression model to use\n",
    "    \n",
    "    Returns:\n",
    "    - DataFrame with predictor names and coefficients\n",
    "    \"\"\"\n",
    "    pipeline = model_pipeline(model_type)\n",
    "    pipeline.fit(X, y)\n",
    "    coefficients = pipeline.named_steps['model'].coef_\n",
    "    predictors = pipeline.named_steps['preprocessing'].get_feature_names_out()\n",
    "    \n",
    "    return pd.DataFrame({'Predictor': predictors, 'Coefficient': coefficients})"
   ]
  },
  {
   "cell_type": "code",
   "execution_count": 42,
   "metadata": {},
   "outputs": [
    {
     "name": "stdout",
     "output_type": "stream",
     "text": [
      "            Predictor  Coefficient\n",
      "0  standardize__CRuns   244.071121\n",
      "            Predictor  Coefficient\n",
      "0  standardize__CRuns   253.351392\n"
     ]
    }
   ],
   "source": [
    "# Model 1 Coefficients\n",
    "ridge_model1_coef = get_coefficients2(create_model1_pipeline, Ridge(alpha=10))\n",
    "linear_model1_coef = get_coefficients2(create_model1_pipeline, LinearRegression())\n",
    "\n",
    "print(ridge_model1_coef)\n",
    "print(linear_model1_coef)"
   ]
  },
  {
   "cell_type": "code",
   "execution_count": 43,
   "metadata": {},
   "outputs": [
    {
     "name": "stdout",
     "output_type": "stream",
     "text": [
      "             Predictor  Coefficient\n",
      "0   standardize__CRuns    71.295886\n",
      "1    standardize__Hits   319.336591\n",
      "2   standardize__AtBat  -181.340470\n",
      "3    standardize__CRBI   160.093952\n",
      "4  standardize__CWalks    -3.096627\n",
      "             Predictor  Coefficient\n",
      "0   standardize__CRuns    67.359289\n",
      "1    standardize__Hits   346.105848\n",
      "2   standardize__AtBat  -207.851407\n",
      "3    standardize__CRBI   164.318476\n",
      "4  standardize__CWalks    -2.980183\n"
     ]
    }
   ],
   "source": [
    "# Model 2 Coefficients\n",
    "ridge_model2_coef = get_coefficients2(create_model2_pipeline, Ridge(alpha=1.0))\n",
    "linear_model2_coef = get_coefficients2(create_model2_pipeline, LinearRegression())\n",
    "\n",
    "print(ridge_model2_coef)\n",
    "print(linear_model2_coef)"
   ]
  },
  {
   "cell_type": "markdown",
   "metadata": {},
   "source": [
    "When comparing the Ridge models with the ordinary least squares (OLS) models, I noticed that the Ridge coefficients are generally smaller. This happens because Ridge regression includes a penalty that reduces the size of coefficients to prevent overfitting. By shrinking coefficients toward zero, Ridge helps create a more stable model, which is especially useful when predictors are correlated. This regularization improves the model’s ability to generalize to new data, which explains why Ridge produces smaller coefficients than OLS."
   ]
  },
  {
   "cell_type": "markdown",
   "metadata": {},
   "source": [
    "## B. LASSO\n",
    "Compare your LASSO model in I with your three LASSO models in II. Did you get the same $\\lambda$ results? Why does this make sense? Did you get the same MSEs? Why does this make sense?"
   ]
  },
  {
   "cell_type": "code",
   "execution_count": 44,
   "metadata": {},
   "outputs": [
    {
     "data": {
      "text/html": [
       "<div>\n",
       "<style scoped>\n",
       "    .dataframe tbody tr th:only-of-type {\n",
       "        vertical-align: middle;\n",
       "    }\n",
       "\n",
       "    .dataframe tbody tr th {\n",
       "        vertical-align: top;\n",
       "    }\n",
       "\n",
       "    .dataframe thead th {\n",
       "        text-align: right;\n",
       "    }\n",
       "</style>\n",
       "<table border=\"1\" class=\"dataframe\">\n",
       "  <thead>\n",
       "    <tr style=\"text-align: right;\">\n",
       "      <th></th>\n",
       "      <th>Model</th>\n",
       "      <th>Alpha</th>\n",
       "      <th>MSE</th>\n",
       "    </tr>\n",
       "  </thead>\n",
       "  <tbody>\n",
       "    <tr>\n",
       "      <th>0</th>\n",
       "      <td>Model 0</td>\n",
       "      <td>1</td>\n",
       "      <td>119758.108873</td>\n",
       "    </tr>\n",
       "    <tr>\n",
       "      <th>1</th>\n",
       "      <td>Model 1</td>\n",
       "      <td>10</td>\n",
       "      <td>143793.449159</td>\n",
       "    </tr>\n",
       "    <tr>\n",
       "      <th>2</th>\n",
       "      <td>Model 2</td>\n",
       "      <td>1</td>\n",
       "      <td>125289.760333</td>\n",
       "    </tr>\n",
       "    <tr>\n",
       "      <th>3</th>\n",
       "      <td>Model 3</td>\n",
       "      <td>10</td>\n",
       "      <td>124548.024883</td>\n",
       "    </tr>\n",
       "  </tbody>\n",
       "</table>\n",
       "</div>"
      ],
      "text/plain": [
       "     Model  Alpha            MSE\n",
       "0  Model 0      1  119758.108873\n",
       "1  Model 1     10  143793.449159\n",
       "2  Model 2      1  125289.760333\n",
       "3  Model 3     10  124548.024883"
      ]
     },
     "execution_count": 44,
     "metadata": {},
     "output_type": "execute_result"
    }
   ],
   "source": [
    "lasso_data = {\n",
    "    \"Model\": [\"Model 0\", \"Model 1\", \"Model 2\", \"Model 3\"], # Model 0 is the model from Part I\n",
    "    \"Alpha\": [1, 10, 1, 10],\n",
    "    \"MSE\": [lasso_mse, lasso_mse1, lasso_mse2, lasso_mse3]\n",
    "}\n",
    "\n",
    "# Create DataFrame\n",
    "lasso_df = pd.DataFrame(lasso_data)\n",
    "lasso_df"
   ]
  },
  {
   "cell_type": "markdown",
   "metadata": {},
   "source": [
    "\n",
    "The differences in $\\lambda$ values and MSEs across the models make sense because each model has a unique set of variables, leading the $\\lambda$ parameter in Lasso to adjust differently for each case to prevent overfitting. Lasso applies a penalty that shrinks coefficient values toward zero, sometimes fully removing less important variables from the model. This selective shrinking allows Lasso to adapt to the varying predictor sets in each model, resulting in distinct $\\lambda$ values. The MSEs across the models are fairly consistent, with the exception of the model using only the single best numeric variable. This outcome aligns with what I expected since Lasso highlights the most critical predictors in the original dataset, and in Part II, we selected these top predictors, which helped maintain strong predictive power across models."
   ]
  },
  {
   "cell_type": "markdown",
   "metadata": {},
   "source": [
    "## C. Elastic Net\n",
    "Compare your MSEs for the Elastic Net models with those for the Ridge and LASSO models. Why does it make sense that Elastic Net always “wins”?"
   ]
  },
  {
   "cell_type": "code",
   "execution_count": 45,
   "metadata": {},
   "outputs": [
    {
     "name": "stdout",
     "output_type": "stream",
     "text": [
      "     Regression    Model            MSE\n",
      "2   Elastic_Net  Model 0  118750.189196\n",
      "0         Ridge  Model 0  119034.332720\n",
      "1         Lasso  Model 0  119758.108873\n",
      "11  Elastic_Net  Model 3  122258.447811\n",
      "9         Ridge  Model 3  123190.260739\n",
      "10        Lasso  Model 3  124548.024883\n",
      "8   Elastic_Net  Model 2  124989.381529\n",
      "6         Ridge  Model 2  125142.787641\n",
      "7         Lasso  Model 2  125289.760333\n",
      "5   Elastic_Net  Model 1  143655.076048\n",
      "3         Ridge  Model 1  143658.517369\n",
      "4         Lasso  Model 1  143793.449159\n"
     ]
    }
   ],
   "source": [
    "mse_data = {\n",
    "    \"Regression\": [\"Ridge\", \"Lasso\", \"Elastic_Net\"] * 4,\n",
    "    \"Model\": [\"Model 0\"] * 3 + [\"Model 1\"] * 3 + [\"Model 2\"] * 3 + [\"Model 3\"] * 3,\n",
    "    \"MSE\": [\n",
    "        ridge_mse, lasso_mse, elastic_mse,\n",
    "        ridge_mse1, lasso_mse1, elastic_mse1,\n",
    "        ridge_mse2, lasso_mse2, elastic_mse2,\n",
    "        ridge_mse3, lasso_mse3, elastic_mse3\n",
    "    ]\n",
    "}\n",
    "\n",
    "mse_df2 = pd.DataFrame(mse_data)\n",
    "\n",
    "print(mse_df2.sort_values(by=\"MSE\", ascending=True))"
   ]
  },
  {
   "cell_type": "markdown",
   "metadata": {},
   "source": [
    "It makes sense that Elastic Net always \"wins\" because it combines the benefits of both LASSO and Ridge regression. By using both types of regularization, Elastic Net not only shrinks the size of coefficients to prevent overfitting (like Ridge) but also sets some coefficients to zero, effectively selecting the most important features (like LASSO). This approach makes Elastic Net more adaptable to datasets with highly correlated features, allowing it to achieve better predictive performance across different models."
   ]
  },
  {
   "cell_type": "markdown",
   "metadata": {},
   "source": [
    "# Part IV: Final Model\n",
    "Fit your final best pipeline on the full dataset, and summarize your results in a few short sentences and a plot."
   ]
  },
  {
   "cell_type": "code",
   "execution_count": 46,
   "metadata": {},
   "outputs": [
    {
     "name": "stdout",
     "output_type": "stream",
     "text": [
      "     Regression    Model            MSE\n",
      "3   Elastic_Net  Model 0  118750.189196\n",
      "1         Ridge  Model 0  119034.332720\n",
      "2         Lasso  Model 0  119758.108873\n",
      "0        Linear  Model 0  121136.310318\n",
      "15  Elastic_Net  Model 3  122258.447811\n",
      "13        Ridge  Model 3  123190.260739\n",
      "14        Lasso  Model 3  124548.024883\n",
      "11  Elastic_Net  Model 2  124989.381529\n",
      "9         Ridge  Model 2  125142.787641\n",
      "10        Lasso  Model 2  125289.760333\n",
      "8        Linear  Model 2  125502.852876\n",
      "12       Linear  Model 3  134745.998976\n",
      "7   Elastic_Net  Model 1  143655.076048\n",
      "5         Ridge  Model 1  143658.517369\n",
      "6         Lasso  Model 1  143793.449159\n",
      "4        Linear  Model 1  143812.935916\n"
     ]
    }
   ],
   "source": [
    "all_mse_data = {\n",
    "    \"Regression\": [\"Linear\", \"Ridge\", \"Lasso\", \"Elastic_Net\"] * 4,\n",
    "    \"Model\": [\"Model 0\"] * 4 + [\"Model 1\"] * 4 + [\"Model 2\"] * 4 + [\"Model 3\"] * 4,\n",
    "    \"MSE\": [\n",
    "        linear_mse, ridge_mse, lasso_mse, elastic_mse,\n",
    "        linear_mse1, ridge_mse1, lasso_mse1, elastic_mse1,\n",
    "        linear_mse2, ridge_mse2, lasso_mse2, elastic_mse2,\n",
    "        linear_mse3, ridge_mse3, lasso_mse3, elastic_mse3\n",
    "    ]\n",
    "}\n",
    "\n",
    "mse_df3 = pd.DataFrame(all_mse_data)\n",
    "\n",
    "print(mse_df3.sort_values(by=\"MSE\", ascending=True))"
   ]
  },
  {
   "cell_type": "code",
   "execution_count": 47,
   "metadata": {},
   "outputs": [
    {
     "name": "stdout",
     "output_type": "stream",
     "text": [
      "               Predictor  Coefficient\n",
      "4      standardize__Hits   200.830729\n",
      "3     standardize__AtBat  -186.181515\n",
      "13    standardize__CRuns   163.907498\n",
      "15   standardize__CWalks  -125.175493\n",
      "1    dummify__Division_W  -116.818145\n",
      "11    standardize__CHits   110.173426\n",
      "14     standardize__CRBI   104.504476\n",
      "8     standardize__Walks    97.341332\n",
      "16  standardize__PutOuts    76.907372\n",
      "12   standardize__CHmRun    59.364022\n",
      "10   standardize__CAtBat   -57.402148\n",
      "9     standardize__Years   -52.040838\n",
      "0      dummify__League_N    45.390029\n",
      "17  standardize__Assists    35.091056\n",
      "18   standardize__Errors   -24.758404\n",
      "2   dummify__NewLeague_N   -12.909402\n",
      "7       standardize__RBI    10.165051\n",
      "6      standardize__Runs     9.950553\n",
      "5     standardize__HmRun    -3.812007\n"
     ]
    }
   ],
   "source": [
    "ct = ColumnTransformer(\n",
    "  [\n",
    "    (\"dummify\", OneHotEncoder(sparse_output = False, handle_unknown='ignore', drop=\"first\"),\n",
    "    make_column_selector(dtype_include=object)),\n",
    "    (\"standardize\", StandardScaler(), \n",
    "    make_column_selector(dtype_include=np.number))\n",
    "    ],\n",
    "    remainder = \"passthrough\"\n",
    "  )\n",
    "\n",
    "pipeline = Pipeline(\n",
    "    [(\"preprocessing\", ct),\n",
    "    (\"model\", ElasticNet(alpha=0.1, l1_ratio=0.8, max_iter=10000))]).set_output(transform=\"pandas\")\n",
    "\n",
    "final_fitted = pipeline.fit(X, y)\n",
    "coefficients = pipeline.named_steps['model'].coef_\n",
    "var_names = ct.fit_transform(X).columns\n",
    "\n",
    "finalcoef_df = pd.DataFrame({\n",
    "    \"Predictor\": var_names,\n",
    "    \"Coefficient\": coefficients}\n",
    ").sort_values(by=\"Coefficient\", key=abs, ascending=False)\n",
    "\n",
    "print(finalcoef_df)"
   ]
  },
  {
   "cell_type": "code",
   "execution_count": 48,
   "metadata": {},
   "outputs": [
    {
     "data": {
      "image/png": "[encoded data removed]"
     },
     "metadata": {
      "image/png": {
       "height": 480,
       "width": 640
      }
     },
     "output_type": "display_data"
    }
   ],
   "source": [
    "y_pred = final_fitted.predict(X)\n",
    "\n",
    "plot_df = hitters[[\"Salary\"]].copy()\n",
    "plot_df[\"y_pred\"] = y_pred\n",
    "\n",
    "(ggplot(plot_df, aes(x = \"Salary\", y = \"y_pred\")) +\n",
    "    geom_point(color = \"purple\") +\n",
    "    geom_smooth(method = \"lm\") +\n",
    "    labs(x = \"Actual Salary (in thousands of dollars)\", \n",
    "         y = \"Predicted Salary (in thousands of dollars)\", \n",
    "         title = \"Actual vs Predicted Salary\"))"
   ]
  },
  {
   "cell_type": "markdown",
   "metadata": {},
   "source": [
    "The final model, using Elastic Net with $\\lambda = 0.1$ and $\\alpha = 0.8$, reported the lowest MSE across all model and regression combinations tested, which was somewhat surprising. While I expected Elastic Net to perform well due to its balanced combination of Lasso and Ridge penalties, I was more surprised that the best-performing model included every variable from the dataset. Initially, I thought a model with fewer, well-chosen features would reduce noise and improve focus on the most predictive variables. However, using all columns allowed the model to capture complex interactions and subtle influences across the full range of variables, creating a more comprehensive representation of the data.  \n",
    "\n",
    "Elastic Net’s penalties helped to control multicollinearity and assigned zero or near-zero weights to less relevant features, effectively \"selecting\" the most important ones within the complete dataset. This regularization reduced the risk of overfitting, even with a large number of predictors. The plot of actual versus predicted salaries shows good accuracy, as most points lie near the diagonal line, indicating that predictions match well with actual values. There is some spread, especially for higher salary values, suggesting potential areas for further improvement, but the overall trend confirms the model’s strength in capturing the relationship between predictors and salary."
   ]
  },
  {
   "cell_type": "markdown",
   "metadata": {},
   "source": [
    "# Generative AI Statement  \n",
    "I used ChatGPT-4o primarily to support the function-writing aspects of this lab, particularly in Part I. While I was already comfortable with writing pipelines and could refer to the GSB 544 textbook for much of the material, generative AI assisted in transforming processes into efficient functions and debugging issues. This support was especially useful for streamlining repetitive tasks, helping me avoid redundancy and refine my approach for greater efficiency."
   ]
  }
 ],
 "metadata": {
  "kernelspec": {
   "display_name": "Python 3",
   "language": "python",
   "name": "python3"
  },
  "language_info": {
   "codemirror_mode": {
    "name": "ipython",
    "version": 3
   },
   "file_extension": ".py",
   "mimetype": "text/x-python",
   "name": "python",
   "nbconvert_exporter": "python",
   "pygments_lexer": "ipython3",
   "version": "3.13.0"
  }
 },
 "nbformat": 4,
 "nbformat_minor": 2
}
