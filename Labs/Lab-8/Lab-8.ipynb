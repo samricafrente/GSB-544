{
 "cells": [
  {
   "cell_type": "raw",
   "metadata": {
    "vscode": {
     "languageId": "raw"
    }
   },
   "source": [
    "---\n",
    "title: \"Lab 8: Cannabis Types\"\n",
    "author: Sam Ricafrente\n",
    "format:\n",
    "    html:\n",
    "        toc: true\n",
    "        code-fold: true\n",
    "        embed-resources: true\n",
    "---"
   ]
  },
  {
   "cell_type": "markdown",
   "metadata": {},
   "source": [
    "# Instructions  \n",
    "You will submit an HTML document to Canvas as your final version.  \n",
    "\n",
    "Your document should show your code chunks/cells as well as any output. Make sure that only relevant output is printed. Do not, for example, print the entire dataset in your final rendered file.  \n",
    "\n",
    "Your document should also be clearly organized, so that it is easy for a reader to find your answers to each question.  "
   ]
  },
  {
   "cell_type": "markdown",
   "metadata": {},
   "source": [
    "# The Data  \n",
    "This week, we consider a dataset generated from text data.  \n",
    "\n",
    "The original dataset can be found here: https://www.kaggle.com/datasets/kingburrito666/cannabis-strains. It consists of user reviews of different strains of cannabis. Users rated their experience with the cannabis strain on a scale of 1 to 5. They also selected words from a long list to describe the Effects and the Flavor of the cannabis.  \n",
    "\n",
    "In the dataset linked above, each row is one strain of cannabis. The average rating of all testers is reported, as well as the most commonly used words for the effect and flavor.  \n",
    "\n",
    "Some data cleaning has been performed for you: The Effect and Flavor columns have been converted to dummy variables indicating if the particular word was used for the particular strain.  \n",
    "\n",
    "This cleaned data can be found at: https://www.dropbox.com/s/s2a1uoiegitupjc/cannabis_full.csv  \n",
    "\n",
    "Our goal will be to fit models that identify the Sativa types from the Indica types, and then to fit models that also distinguish the Hybrid types.  \n",
    "\n",
    "IMPORTANT: In this assignment, you do not need to consider different feature sets. Normally, this would be a good thing to try - but for this homework, simply include all the predictors for every model.  "
   ]
  },
  {
   "cell_type": "code",
   "execution_count": 2,
   "metadata": {},
   "outputs": [],
   "source": [
    "import pandas as pd\n",
    "import numpy as np\n",
    "import matplotlib.pyplot as plt\n",
    "from sklearn.pipeline import Pipeline\n",
    "from sklearn.neighbors import KNeighborsClassifier\n",
    "from sklearn.tree import DecisionTreeClassifier, plot_tree\n",
    "from sklearn.linear_model import LogisticRegression\n",
    "from sklearn.discriminant_analysis import LinearDiscriminantAnalysis\n",
    "from sklearn.discriminant_analysis import QuadraticDiscriminantAnalysis\n",
    "from sklearn.svm import SVC\n",
    "from sklearn.model_selection import train_test_split, GridSearchCV, cross_val_score, StratifiedKFold, cross_val_predict\n",
    "from sklearn.preprocessing import StandardScaler, OneHotEncoder, PolynomialFeatures, LabelEncoder\n",
    "from sklearn.compose import make_column_selector, ColumnTransformer\n",
    "from sklearn.metrics import roc_auc_score, precision_score, recall_score, confusion_matrix, roc_curve, classification_report, roc_curve, auc\n",
    "from plotnine import *\n",
    "import warnings\n",
    "from sklearn.exceptions import FitFailedWarning"
   ]
  },
  {
   "cell_type": "code",
   "execution_count": 3,
   "metadata": {},
   "outputs": [
    {
     "data": {
      "text/html": [
       "<div>\n",
       "<style scoped>\n",
       "    .dataframe tbody tr th:only-of-type {\n",
       "        vertical-align: middle;\n",
       "    }\n",
       "\n",
       "    .dataframe tbody tr th {\n",
       "        vertical-align: top;\n",
       "    }\n",
       "\n",
       "    .dataframe thead th {\n",
       "        text-align: right;\n",
       "    }\n",
       "</style>\n",
       "<table border=\"1\" class=\"dataframe\">\n",
       "  <thead>\n",
       "    <tr style=\"text-align: right;\">\n",
       "      <th></th>\n",
       "      <th>Strain</th>\n",
       "      <th>Type</th>\n",
       "      <th>Rating</th>\n",
       "      <th>Effects</th>\n",
       "      <th>Flavor</th>\n",
       "      <th>Creative</th>\n",
       "      <th>Energetic</th>\n",
       "      <th>Tingly</th>\n",
       "      <th>Euphoric</th>\n",
       "      <th>Relaxed</th>\n",
       "      <th>...</th>\n",
       "      <th>Ammonia</th>\n",
       "      <th>Minty</th>\n",
       "      <th>Tree</th>\n",
       "      <th>Fruit</th>\n",
       "      <th>Butter</th>\n",
       "      <th>Pineapple</th>\n",
       "      <th>Tar</th>\n",
       "      <th>Rose</th>\n",
       "      <th>Plum</th>\n",
       "      <th>Pear</th>\n",
       "    </tr>\n",
       "  </thead>\n",
       "  <tbody>\n",
       "    <tr>\n",
       "      <th>0</th>\n",
       "      <td>100-Og</td>\n",
       "      <td>hybrid</td>\n",
       "      <td>4.0</td>\n",
       "      <td>Creative,Energetic,Tingly,Euphoric,Relaxed</td>\n",
       "      <td>Earthy,Sweet,Citrus</td>\n",
       "      <td>1.0</td>\n",
       "      <td>1.0</td>\n",
       "      <td>1.0</td>\n",
       "      <td>1.0</td>\n",
       "      <td>1.0</td>\n",
       "      <td>...</td>\n",
       "      <td>0.0</td>\n",
       "      <td>0.0</td>\n",
       "      <td>0.0</td>\n",
       "      <td>0.0</td>\n",
       "      <td>0.0</td>\n",
       "      <td>0.0</td>\n",
       "      <td>0.0</td>\n",
       "      <td>0.0</td>\n",
       "      <td>0.0</td>\n",
       "      <td>0.0</td>\n",
       "    </tr>\n",
       "    <tr>\n",
       "      <th>1</th>\n",
       "      <td>98-White-Widow</td>\n",
       "      <td>hybrid</td>\n",
       "      <td>4.7</td>\n",
       "      <td>Relaxed,Aroused,Creative,Happy,Energetic</td>\n",
       "      <td>Flowery,Violet,Diesel</td>\n",
       "      <td>1.0</td>\n",
       "      <td>1.0</td>\n",
       "      <td>0.0</td>\n",
       "      <td>0.0</td>\n",
       "      <td>1.0</td>\n",
       "      <td>...</td>\n",
       "      <td>0.0</td>\n",
       "      <td>0.0</td>\n",
       "      <td>0.0</td>\n",
       "      <td>0.0</td>\n",
       "      <td>0.0</td>\n",
       "      <td>0.0</td>\n",
       "      <td>0.0</td>\n",
       "      <td>0.0</td>\n",
       "      <td>0.0</td>\n",
       "      <td>0.0</td>\n",
       "    </tr>\n",
       "    <tr>\n",
       "      <th>2</th>\n",
       "      <td>1024</td>\n",
       "      <td>sativa</td>\n",
       "      <td>4.4</td>\n",
       "      <td>Uplifted,Happy,Relaxed,Energetic,Creative</td>\n",
       "      <td>Spicy/Herbal,Sage,Woody</td>\n",
       "      <td>1.0</td>\n",
       "      <td>1.0</td>\n",
       "      <td>0.0</td>\n",
       "      <td>0.0</td>\n",
       "      <td>1.0</td>\n",
       "      <td>...</td>\n",
       "      <td>0.0</td>\n",
       "      <td>0.0</td>\n",
       "      <td>0.0</td>\n",
       "      <td>0.0</td>\n",
       "      <td>0.0</td>\n",
       "      <td>0.0</td>\n",
       "      <td>0.0</td>\n",
       "      <td>0.0</td>\n",
       "      <td>0.0</td>\n",
       "      <td>0.0</td>\n",
       "    </tr>\n",
       "    <tr>\n",
       "      <th>3</th>\n",
       "      <td>13-Dawgs</td>\n",
       "      <td>hybrid</td>\n",
       "      <td>4.2</td>\n",
       "      <td>Tingly,Creative,Hungry,Relaxed,Uplifted</td>\n",
       "      <td>Apricot,Citrus,Grapefruit</td>\n",
       "      <td>1.0</td>\n",
       "      <td>0.0</td>\n",
       "      <td>1.0</td>\n",
       "      <td>0.0</td>\n",
       "      <td>1.0</td>\n",
       "      <td>...</td>\n",
       "      <td>0.0</td>\n",
       "      <td>0.0</td>\n",
       "      <td>0.0</td>\n",
       "      <td>0.0</td>\n",
       "      <td>0.0</td>\n",
       "      <td>0.0</td>\n",
       "      <td>0.0</td>\n",
       "      <td>0.0</td>\n",
       "      <td>0.0</td>\n",
       "      <td>0.0</td>\n",
       "    </tr>\n",
       "    <tr>\n",
       "      <th>4</th>\n",
       "      <td>24K-Gold</td>\n",
       "      <td>hybrid</td>\n",
       "      <td>4.6</td>\n",
       "      <td>Happy,Relaxed,Euphoric,Uplifted,Talkative</td>\n",
       "      <td>Citrus,Earthy,Orange</td>\n",
       "      <td>0.0</td>\n",
       "      <td>0.0</td>\n",
       "      <td>0.0</td>\n",
       "      <td>1.0</td>\n",
       "      <td>1.0</td>\n",
       "      <td>...</td>\n",
       "      <td>0.0</td>\n",
       "      <td>0.0</td>\n",
       "      <td>0.0</td>\n",
       "      <td>0.0</td>\n",
       "      <td>0.0</td>\n",
       "      <td>0.0</td>\n",
       "      <td>0.0</td>\n",
       "      <td>0.0</td>\n",
       "      <td>0.0</td>\n",
       "      <td>0.0</td>\n",
       "    </tr>\n",
       "  </tbody>\n",
       "</table>\n",
       "<p>5 rows × 69 columns</p>\n",
       "</div>"
      ],
      "text/plain": [
       "           Strain    Type  Rating                                     Effects  \\\n",
       "0          100-Og  hybrid     4.0  Creative,Energetic,Tingly,Euphoric,Relaxed   \n",
       "1  98-White-Widow  hybrid     4.7    Relaxed,Aroused,Creative,Happy,Energetic   \n",
       "2            1024  sativa     4.4   Uplifted,Happy,Relaxed,Energetic,Creative   \n",
       "3        13-Dawgs  hybrid     4.2     Tingly,Creative,Hungry,Relaxed,Uplifted   \n",
       "4        24K-Gold  hybrid     4.6   Happy,Relaxed,Euphoric,Uplifted,Talkative   \n",
       "\n",
       "                      Flavor  Creative  Energetic  Tingly  Euphoric  Relaxed  \\\n",
       "0        Earthy,Sweet,Citrus       1.0        1.0     1.0       1.0      1.0   \n",
       "1      Flowery,Violet,Diesel       1.0        1.0     0.0       0.0      1.0   \n",
       "2    Spicy/Herbal,Sage,Woody       1.0        1.0     0.0       0.0      1.0   \n",
       "3  Apricot,Citrus,Grapefruit       1.0        0.0     1.0       0.0      1.0   \n",
       "4       Citrus,Earthy,Orange       0.0        0.0     0.0       1.0      1.0   \n",
       "\n",
       "   ...  Ammonia  Minty  Tree  Fruit  Butter  Pineapple  Tar  Rose  Plum  Pear  \n",
       "0  ...      0.0    0.0   0.0    0.0     0.0        0.0  0.0   0.0   0.0   0.0  \n",
       "1  ...      0.0    0.0   0.0    0.0     0.0        0.0  0.0   0.0   0.0   0.0  \n",
       "2  ...      0.0    0.0   0.0    0.0     0.0        0.0  0.0   0.0   0.0   0.0  \n",
       "3  ...      0.0    0.0   0.0    0.0     0.0        0.0  0.0   0.0   0.0   0.0  \n",
       "4  ...      0.0    0.0   0.0    0.0     0.0        0.0  0.0   0.0   0.0   0.0  \n",
       "\n",
       "[5 rows x 69 columns]"
      ]
     },
     "execution_count": 3,
     "metadata": {},
     "output_type": "execute_result"
    }
   ],
   "source": [
    "cannabis = pd.read_csv(\"cannabis_full.csv\")\n",
    "cannabis.dropna(inplace=True) # Drop rows with missing values\n",
    "cannabis.head()"
   ]
  },
  {
   "cell_type": "markdown",
   "metadata": {},
   "source": [
    "# Part One: Binary Classification  \n",
    "Create a dataset that is limited only to the Sativa and Indica type cannabis strains.  \n",
    "\n",
    "This section asks you to create a final best model for each of the four new model types studied this week: LDA, QDA, SVC, and SVM. For SVM, you may limit yourself to only the polynomial kernel.  \n",
    "\n",
    "For each, you should:  \n",
    "\n",
    "- Choose a metric you will use to select your model, and briefly justify your choice. (Hint: There is no specific target category here, so this should not be a metric that only prioritizes one category.)  \n",
    "\n",
    "- Find the best model for predicting the Type variable. Don’t forget to tune any hyperparameters.  \n",
    "\n",
    "- Report the (cross-validated!) metric.  \n",
    "\n",
    "- Fit the final model.  \n",
    "\n",
    "- Output a confusion matrix.  "
   ]
  },
  {
   "cell_type": "code",
   "execution_count": 34,
   "metadata": {},
   "outputs": [],
   "source": [
    "# Filter for Sativa and Indica\n",
    "cannabis_binary = cannabis[cannabis['Type'].isin(['sativa', 'indica'])]\n",
    "\n",
    "# Encode target variable\n",
    "label_encoder = LabelEncoder()\n",
    "y = label_encoder.fit_transform(cannabis_binary['Type']) # 0 for indica, 1 for sativa\n",
    "\n",
    "X = cannabis_binary.drop(columns=['Type', 'Strain', 'Effects', 'Flavor']) # Define predictors, dropping unnecessary columns"
   ]
  },
  {
   "cell_type": "markdown",
   "metadata": {},
   "source": [
    "## Q1: LDA"
   ]
  },
  {
   "cell_type": "code",
   "execution_count": 35,
   "metadata": {},
   "outputs": [
    {
     "name": "stdout",
     "output_type": "stream",
     "text": [
      "Best Hyperparameters: {'lda__shrinkage': 'auto', 'lda__solver': 'lsqr'}\n",
      "Best Cross-Validated Accuracy: 0.8652\n"
     ]
    }
   ],
   "source": [
    "lda_pipeline = Pipeline(\n",
    "  [(\"scaler\", StandardScaler()),\n",
    "  (\"lda\", LinearDiscriminantAnalysis())]\n",
    ")\n",
    "\n",
    "# Hyperparameter tuning\n",
    "param_grid = {\n",
    "    'lda__solver': ['svd', 'lsqr', 'eigen'],\n",
    "    'lda__shrinkage': [None, 'auto'],\n",
    "}\n",
    "\n",
    "stratified_cv = StratifiedKFold(n_splits=5, shuffle=True, random_state=42)\n",
    "\n",
    "grid_search = GridSearchCV(\n",
    "    lda_pipeline,\n",
    "    param_grid,\n",
    "    cv=stratified_cv,\n",
    "    scoring=\"accuracy\",\n",
    "    n_jobs=-1,\n",
    ")\n",
    "\n",
    "# Use warnings.catch_warnings() to suppress warnings\n",
    "with warnings.catch_warnings():\n",
    "    warnings.filterwarnings(\"ignore\", category=FitFailedWarning)\n",
    "    warnings.filterwarnings(\"ignore\", category=UserWarning)\n",
    "    \n",
    "    # Run the grid search\n",
    "    grid_search.fit(X, y)\n",
    "    \n",
    "print(f\"Best Hyperparameters: {grid_search.best_params_}\")\n",
    "print(f\"Best Cross-Validated Accuracy: {grid_search.best_score_:.4f}\")"
   ]
  },
  {
   "cell_type": "markdown",
   "metadata": {},
   "source": [
    "I will be using accuracy to select the model because it measures how often the model correctly predicts both classes overall. Since there is no single category that is more important, accuracy gives a fair way to evaluate the model’s performance. The class imbalance is small, so accuracy still works well to show how well the model handles both categories equally. The best cross-validated accuracy achieved was 0.8652 with the hyperparameters `lda_shrinkage='auto'` and `lda_solver='lsqr'.`"
   ]
  },
  {
   "cell_type": "code",
   "execution_count": 37,
   "metadata": {},
   "outputs": [
    {
     "name": "stdout",
     "output_type": "stream",
     "text": [
      "Confusion Matrix:\n",
      "        indica  sativa\n",
      "indica     182      16\n",
      "sativa      20     103\n",
      "Classification Report:\n",
      "              precision    recall  f1-score   support\n",
      "\n",
      "      indica       0.90      0.92      0.91       198\n",
      "      sativa       0.87      0.84      0.85       123\n",
      "\n",
      "    accuracy                           0.89       321\n",
      "   macro avg       0.88      0.88      0.88       321\n",
      "weighted avg       0.89      0.89      0.89       321\n",
      "\n"
     ]
    }
   ],
   "source": [
    "# Define the final pipeline\n",
    "final_lda_pipeline = Pipeline(\n",
    "  [(\"scaler\", StandardScaler()),\n",
    "  (\"lda\", LinearDiscriminantAnalysis(shrinkage='auto', solver='lsqr'))]\n",
    ")\n",
    "\n",
    "# Test performance\n",
    "X_train, X_test, y_train, y_test = train_test_split(X, y, test_size=0.3, stratify=y, random_state=42)\n",
    "\n",
    "final_lda_pipeline.fit(X_train, y_train)\n",
    "y_pred = final_lda_pipeline.predict(X_test)\n",
    "\n",
    "lda_cm = confusion_matrix(y_test, y_pred)\n",
    "print(\"Confusion Matrix:\")\n",
    "lda_df = pd.DataFrame(\n",
    "    lda_cm,\n",
    "    index=label_encoder.classes_,  # Actual class labels\n",
    "    columns=label_encoder.classes_  # Predicted class labels\n",
    ")\n",
    "print(lda_df)\n",
    "print(\"Classification Report:\")\n",
    "print(classification_report(y_test, y_pred, target_names=label_encoder.classes_))"
   ]
  },
  {
   "cell_type": "markdown",
   "metadata": {},
   "source": [
    "The final LDA model achieved an accuracy of 89%, meaning it correctly predicted the strain type in most cases. The confusion matrix shows it misclassified 16 indica strains as sativa and 20 sativa strains as indica. The recall for indica is 92%, meaning most indica strains were identified correctly, while the recall for sativa is 84%, showing slightly lower performance for this class. Overall, the model works well for both classes and shows good balance in its predictions."
   ]
  },
  {
   "cell_type": "markdown",
   "metadata": {},
   "source": [
    "## Q2: QDA"
   ]
  },
  {
   "cell_type": "code",
   "execution_count": 38,
   "metadata": {},
   "outputs": [
    {
     "name": "stdout",
     "output_type": "stream",
     "text": [
      "Best Hyperparameters: {'qda__reg_param': 1.0}\n",
      "Best Cross-Validated Accuracy: 0.8633\n",
      "Confusion Matrix:\n",
      "        indica  sativa\n",
      "indica     181      17\n",
      "sativa      17     106\n",
      "Classification Report:\n",
      "              precision    recall  f1-score   support\n",
      "\n",
      "      indica       0.91      0.91      0.91       198\n",
      "      sativa       0.86      0.86      0.86       123\n",
      "\n",
      "    accuracy                           0.89       321\n",
      "   macro avg       0.89      0.89      0.89       321\n",
      "weighted avg       0.89      0.89      0.89       321\n",
      "\n"
     ]
    }
   ],
   "source": [
    "qda_pipeline = Pipeline([\n",
    "    (\"scaler\", StandardScaler()),\n",
    "    (\"qda\", QuadraticDiscriminantAnalysis())\n",
    "])\n",
    "\n",
    "param_grid = {\n",
    "    \"qda__reg_param\": [0.0, 0.01, 0.1, 0.2, 0.5, 0.7, 1.0]  # Regularization parameter\n",
    "}\n",
    "\n",
    "# Hyperparameter tuning\n",
    "grid_search = GridSearchCV(\n",
    "    qda_pipeline,\n",
    "    param_grid,\n",
    "    cv=stratified_cv,\n",
    "    scoring=\"accuracy\",\n",
    "    n_jobs=-1\n",
    ")\n",
    "\n",
    "# Use warnings.catch_warnings() to suppress \"Variables are collinear\" warning\n",
    "warnings.filterwarnings(\"ignore\", message=\"Variables are collinear\")\n",
    "\n",
    "grid_search.fit(X, y)\n",
    "\n",
    "best_params = grid_search.best_params_\n",
    "best_score = grid_search.best_score_\n",
    "\n",
    "print(f\"Best Hyperparameters: {best_params}\")\n",
    "print(f\"Best Cross-Validated Accuracy: {best_score:.4f}\")\n",
    "\n",
    "# Define the final pipeline\n",
    "final_qda_pipeline = Pipeline([\n",
    "    (\"scaler\", StandardScaler()),\n",
    "    (\"qda\", QuadraticDiscriminantAnalysis(reg_param=best_params[\"qda__reg_param\"]))\n",
    "])\n",
    "\n",
    "# Test performance\n",
    "X_train, X_test, y_train, y_test = train_test_split(X, y, test_size=0.3, stratify=y, random_state=42)\n",
    "\n",
    "final_qda_pipeline.fit(X_train, y_train)\n",
    "y_pred = final_qda_pipeline.predict(X_test)\n",
    "\n",
    "qda_cm = confusion_matrix(y_test, y_pred)\n",
    "print(\"Confusion Matrix:\")\n",
    "qda_df = pd.DataFrame(\n",
    "    qda_cm,\n",
    "    index=label_encoder.classes_,  # Actual class labels\n",
    "    columns=label_encoder.classes_  # Predicted class labels\n",
    ")\n",
    "print(qda_df)\n",
    "print(\"Classification Report:\")\n",
    "print(classification_report(y_test, y_pred, target_names=label_encoder.classes_))\n"
   ]
  },
  {
   "cell_type": "markdown",
   "metadata": {},
   "source": [
    "The final QDA model achieved an accuracy of 89%, meaning it correctly predicted the strain type for most cases. The confusion matrix shows it misclassified 17 indica strains as sativa and 17 sativa strains as indica. The recall for indica is 91%, meaning most indica strains were identified correctly, while the recall for sativa is 86%, indicating slightly lower performance for this class. Overall, the model demonstrates strong and balanced performance across both strain types, with good precision and recall scores for both classes."
   ]
  },
  {
   "cell_type": "markdown",
   "metadata": {},
   "source": [
    "## Q3: SVC"
   ]
  },
  {
   "cell_type": "code",
   "execution_count": 39,
   "metadata": {},
   "outputs": [
    {
     "name": "stdout",
     "output_type": "stream",
     "text": [
      "Best Hyperparameters: {'svc__C': 1}\n",
      "Best Cross-Validated Accuracy: 0.8408\n",
      "Confusion Matrix:\n",
      "        indica  sativa\n",
      "indica     183      15\n",
      "sativa      26      97\n",
      "Classification Report:\n",
      "              precision    recall  f1-score   support\n",
      "\n",
      "      indica       0.88      0.92      0.90       198\n",
      "      sativa       0.87      0.79      0.83       123\n",
      "\n",
      "    accuracy                           0.87       321\n",
      "   macro avg       0.87      0.86      0.86       321\n",
      "weighted avg       0.87      0.87      0.87       321\n",
      "\n"
     ]
    }
   ],
   "source": [
    "svc_pipeline = Pipeline([\n",
    "    (\"scaler\", StandardScaler()),\n",
    "    (\"svc\", SVC())\n",
    "])\n",
    "\n",
    "param_grid = {\n",
    "    \"svc__C\": [0.1, 1, 10, 100] # Regularization parameter\n",
    "}\n",
    "\n",
    "# Hyperparameter tuning\n",
    "grid_search = GridSearchCV(\n",
    "    svc_pipeline,\n",
    "    param_grid,\n",
    "    cv=stratified_cv,\n",
    "    scoring=\"accuracy\",\n",
    "    n_jobs=-1\n",
    ")\n",
    "\n",
    "grid_search.fit(X, y)\n",
    "\n",
    "best_params = grid_search.best_params_\n",
    "best_score = grid_search.best_score_\n",
    "\n",
    "print(f\"Best Hyperparameters: {best_params}\")\n",
    "print(f\"Best Cross-Validated Accuracy: {best_score:.4f}\")\n",
    "\n",
    "# Define the final pipeline\n",
    "final_svc_pipeline = Pipeline([\n",
    "    (\"scaler\", StandardScaler()),\n",
    "    (\"svc\", SVC(\n",
    "        C=best_params[\"svc__C\"]\n",
    "    ))\n",
    "])\n",
    "\n",
    "# Test performance\n",
    "X_train, X_test, y_train, y_test = train_test_split(X, y, test_size=0.3, stratify=y, random_state=42)\n",
    "\n",
    "final_svc_pipeline.fit(X_train, y_train)\n",
    "y_pred = final_svc_pipeline.predict(X_test)\n",
    "\n",
    "# Evaluate the final model\n",
    "svc_cm = confusion_matrix(y_test, y_pred)\n",
    "print(\"Confusion Matrix:\")\n",
    "svc_df = pd.DataFrame(\n",
    "    svc_cm,\n",
    "    index=label_encoder.classes_,  # Actual class labels\n",
    "    columns=label_encoder.classes_  # Predicted class labels\n",
    ")\n",
    "print(svc_df)\n",
    "print(\"Classification Report:\")\n",
    "print(classification_report(y_test, y_pred, target_names=label_encoder.classes_))\n"
   ]
  },
  {
   "cell_type": "markdown",
   "metadata": {},
   "source": [
    "The SVC model achieved an accuracy of 87%, correctly predicting the strain type in most cases. The confusion matrix shows it misclassified 15 indica strains as sativa and 26 sativa strains as indica. The recall for indica is 92%, indicating strong performance in identifying indica strains, while the recall for sativa is lower at 79%, showing more difficulty with this class. Overall, the model demonstrates strong performance, with high accuracy and recall for the indica class."
   ]
  },
  {
   "cell_type": "markdown",
   "metadata": {},
   "source": [
    "## Q4: SVM"
   ]
  },
  {
   "cell_type": "code",
   "execution_count": 40,
   "metadata": {},
   "outputs": [
    {
     "name": "stdout",
     "output_type": "stream",
     "text": [
      "Best Hyperparameters: {'svm__C': 10, 'svm__degree': 3, 'svm__gamma': 'scale', 'svm__kernel': 'poly'}\n",
      "Best Cross-Validated Accuracy: 0.8315\n",
      "Confusion Matrix:\n",
      "        indica  sativa\n",
      "indica     175      23\n",
      "sativa      33      90\n",
      "Classification Report:\n",
      "              precision    recall  f1-score   support\n",
      "\n",
      "      indica       0.84      0.88      0.86       198\n",
      "      sativa       0.80      0.73      0.76       123\n",
      "\n",
      "    accuracy                           0.83       321\n",
      "   macro avg       0.82      0.81      0.81       321\n",
      "weighted avg       0.82      0.83      0.82       321\n",
      "\n"
     ]
    }
   ],
   "source": [
    "svm_pipeline = Pipeline([\n",
    "    (\"scaler\", StandardScaler()),\n",
    "    (\"svm\", SVC())\n",
    "])\n",
    "\n",
    "# Define the hyperparameter grid for polynomial kernel only\n",
    "param_grid = {\n",
    "    \"svm__C\": [0.1, 1, 10, 100],          # Regularization parameter\n",
    "    \"svm__kernel\": [\"poly\"],              # Polynomial kernel\n",
    "    \"svm__degree\": [2, 3, 4],             # Degree of the polynomial kernel\n",
    "    \"svm__gamma\": [\"scale\", \"auto\"]       # Kernel coefficient\n",
    "}\n",
    "\n",
    "grid_search = GridSearchCV(\n",
    "    svm_pipeline,\n",
    "    param_grid,\n",
    "    cv=stratified_cv,\n",
    "    scoring=\"accuracy\",\n",
    "    n_jobs=-1\n",
    ")\n",
    "\n",
    "grid_search.fit(X, y)\n",
    "\n",
    "best_params = grid_search.best_params_\n",
    "best_score = grid_search.best_score_\n",
    "\n",
    "print(f\"Best Hyperparameters: {best_params}\")\n",
    "print(f\"Best Cross-Validated Accuracy: {best_score:.4f}\")\n",
    "\n",
    "# Define the final pipeline\n",
    "final_svm_pipeline = Pipeline([\n",
    "    (\"scaler\", StandardScaler()),\n",
    "    (\"svm\", SVC(\n",
    "        kernel=\"poly\",\n",
    "        C=best_params[\"svm__C\"],\n",
    "        degree=best_params[\"svm__degree\"],\n",
    "        gamma=best_params[\"svm__gamma\"]\n",
    "    ))\n",
    "])\n",
    "\n",
    "# Test performance\n",
    "X_train, X_test, y_train, y_test = train_test_split(X, y, test_size=0.3, stratify=y, random_state=42)\n",
    "\n",
    "final_svm_pipeline.fit(X_train, y_train)\n",
    "y_pred = final_svm_pipeline.predict(X_test)\n",
    "\n",
    "# Evaluate the final model\n",
    "svm_cm = confusion_matrix(y_test, y_pred)\n",
    "print(\"Confusion Matrix:\")\n",
    "svm_df = pd.DataFrame(\n",
    "    svm_cm,\n",
    "    index=label_encoder.classes_,  # Actual class labels\n",
    "    columns=label_encoder.classes_  # Predicted class labels\n",
    ")\n",
    "print(svm_df)\n",
    "print(\"Classification Report:\")\n",
    "print(classification_report(y_test, y_pred, target_names=label_encoder.classes_))\n"
   ]
  },
  {
   "cell_type": "markdown",
   "metadata": {},
   "source": [
    "The SVM model with the polynomial kernel achieved an accuracy of 83%, correctly predicting the strain type for most test cases. The confusion matrix shows it misclassified 23 indica strains as sativa and 33 sativa strains as indica. The recall for indica is 88%, meaning the model performed well in identifying most indica strains, while the recall for sativa is lower at 73%, indicating more difficulty with this class. Overall, the model shows good performance, but its accuracy and recall for sativa could be improved."
   ]
  },
  {
   "cell_type": "markdown",
   "metadata": {},
   "source": [
    "# Part Two: Natural Multiclass  \n",
    "Now use the full dataset, including the Hybrid strains.  "
   ]
  },
  {
   "cell_type": "markdown",
   "metadata": {},
   "source": [
    "## Q1  \n",
    "Fit a decision tree, plot the final fit, and interpret the results."
   ]
  },
  {
   "cell_type": "code",
   "execution_count": 43,
   "metadata": {},
   "outputs": [],
   "source": [
    "# Prepare the data\n",
    "y = label_encoder.fit_transform(cannabis['Type']) # 0: hybrid, 1: indica, 2: sativa\n",
    "\n",
    "X = cannabis.drop(columns=['Type', 'Strain', 'Effects', 'Flavor']) # Define predictors, dropping unnecessary columns"
   ]
  },
  {
   "cell_type": "code",
   "execution_count": 44,
   "metadata": {},
   "outputs": [
    {
     "name": "stdout",
     "output_type": "stream",
     "text": [
      "Best Parameters: {'dt__ccp_alpha': 0.005, 'dt__max_depth': 4, 'dt__min_samples_leaf': 1, 'dt__min_samples_split': 2}\n",
      "Best Cross-Validated Accuracy: 0.6425\n",
      "Confusion Matrix:\n",
      "        hybrid  indica  sativa\n",
      "hybrid     225      70      42\n",
      "indica      62     133       3\n",
      "sativa      74      12      37\n",
      "Classification Report:\n",
      "              precision    recall  f1-score   support\n",
      "\n",
      "      hybrid       0.62      0.67      0.64       337\n",
      "      indica       0.62      0.67      0.64       198\n",
      "      sativa       0.45      0.30      0.36       123\n",
      "\n",
      "    accuracy                           0.60       658\n",
      "   macro avg       0.56      0.55      0.55       658\n",
      "weighted avg       0.59      0.60      0.59       658\n",
      "\n"
     ]
    }
   ],
   "source": [
    "dt_pipeline = Pipeline([\n",
    "    (\"scaler\", StandardScaler()),  # Normalize features\n",
    "    (\"dt\", DecisionTreeClassifier(random_state=42))\n",
    "])\n",
    "\n",
    "# Define parameter grid\n",
    "param_grid = {\n",
    "    \"dt__max_depth\": [2, 4, 6, 8, 10, None],\n",
    "    \"dt__min_samples_split\": [2, 5, 10],\n",
    "    \"dt__min_samples_leaf\": [1, 2, 4],\n",
    "    \"dt__ccp_alpha\": [0.0, 0.005, 0.01, 0.02, 0.1]\n",
    "}\n",
    "\n",
    "grid_search = GridSearchCV(\n",
    "    dt_pipeline,\n",
    "    param_grid,\n",
    "    cv=stratified_cv,\n",
    "    scoring=\"accuracy\",\n",
    "    n_jobs=-1\n",
    ")\n",
    "\n",
    "grid_search.fit(X_train, y_train)\n",
    "\n",
    "best_params = grid_search.best_params_\n",
    "best_score = grid_search.best_score_\n",
    "\n",
    "print(f\"Best Parameters: {best_params}\")\n",
    "print(f\"Best Cross-Validated Accuracy: {best_score:.4f}\")\n",
    "\n",
    "# Define the final pipeline\n",
    "final_dt_pipeline = Pipeline([\n",
    "    (\"scaler\", StandardScaler()),\n",
    "    (\"dt\", DecisionTreeClassifier(\n",
    "        max_depth=best_params[\"dt__max_depth\"],\n",
    "        min_samples_split=best_params[\"dt__min_samples_split\"],\n",
    "        min_samples_leaf=best_params[\"dt__min_samples_leaf\"],\n",
    "        ccp_alpha=best_params[\"dt__ccp_alpha\"],\n",
    "        random_state=42\n",
    "    ))\n",
    "])\n",
    "\n",
    "# Test performance\n",
    "X_train, X_test, y_train, y_test = train_test_split(X, y, test_size=0.3, stratify=y, random_state=42)\n",
    "\n",
    "final_dt_pipeline.fit(X_train, y_train)\n",
    "y_pred = final_dt_pipeline.predict(X_test)\n",
    "\n",
    "# Evaluate the final model\n",
    "dt_cm = confusion_matrix(y_test, y_pred)\n",
    "print(\"Confusion Matrix:\")\n",
    "dt_df = pd.DataFrame(\n",
    "    dt_cm,\n",
    "    index=label_encoder.classes_,  # Actual class labels\n",
    "    columns=label_encoder.classes_  # Predicted class labels\n",
    ")\n",
    "print(dt_df)\n",
    "print(\"Classification Report:\")\n",
    "print(classification_report(y_test, y_pred, target_names=label_encoder.classes_))"
   ]
  },
  {
   "cell_type": "markdown",
   "metadata": {},
   "source": [
    "The decision tree achieved an accuracy of 60%, meaning it correctly predicted 60% of the samples in the test dataset. From the confusion matrix, we see that it performed best on Hybrid and Indica strains, correctly identifying most of them, but struggled with Sativa strains, where only 37 out of 123 were predicted correctly. The precision, recall, and F1-scores show that the model is more reliable for Hybrid and Indica than for Sativa. Overall, the model does a decent job but could use some improvements, especially to handle Sativa strains better."
   ]
  },
  {
   "cell_type": "code",
   "execution_count": 12,
   "metadata": {},
   "outputs": [
    {
     "data": {
      "image/png": "[encoded data removed]",
      "text/plain": [
       "<Figure size 1200x800 with 1 Axes>"
      ]
     },
     "metadata": {},
     "output_type": "display_data"
    }
   ],
   "source": [
    "# Plot the decision tree\n",
    "dt = final_dt_pipeline.named_steps[\"dt\"]  # Extract the tree from the pipeline\n",
    "plt.figure(figsize=(12, 8))\n",
    "plot_tree(dt, feature_names=X.columns, class_names=label_encoder.classes_, filled=True, fontsize=10)\n",
    "plt.show()"
   ]
  },
  {
   "cell_type": "markdown",
   "metadata": {},
   "source": [
    "The decision tree uses features like \"Sleepy,\" \"Energetic,\" and \"Relaxed\" to decide if a strain is Hybrid, Indica, or Sativa. The first split is based on the \"Sleepy\" feature, separating most Hybrid strains from Indica strains. Additional splits, like \"Energetic\" and \"Relaxed,\" help refine the predictions. Hybrid strains dominate the tree, while Sativa strains are harder to classify accurately. This shows the tree relies heavily on these features but has trouble clearly separating Sativa from the other types."
   ]
  },
  {
   "cell_type": "markdown",
   "metadata": {},
   "source": [
    "## Q2  \n",
    "Repeat the analyses from Part One for LDA, QDA, and KNN.  "
   ]
  },
  {
   "cell_type": "markdown",
   "metadata": {},
   "source": [
    "### LDA"
   ]
  },
  {
   "cell_type": "code",
   "execution_count": 13,
   "metadata": {},
   "outputs": [
    {
     "name": "stdout",
     "output_type": "stream",
     "text": [
      "Best Parameters: {'lda__shrinkage': None, 'lda__solver': 'svd'}\n",
      "Best Cross-Validated Accuracy: 0.6271\n",
      "Confusion Matrix:\n",
      "        hybrid  indica  sativa\n",
      "hybrid     217      68      52\n",
      "indica      65     128       5\n",
      "sativa      72       9      42\n",
      "Classification Report:\n",
      "              precision    recall  f1-score   support\n",
      "\n",
      "      hybrid       0.61      0.64      0.63       337\n",
      "      indica       0.62      0.65      0.64       198\n",
      "      sativa       0.42      0.34      0.38       123\n",
      "\n",
      "    accuracy                           0.59       658\n",
      "   macro avg       0.55      0.54      0.55       658\n",
      "weighted avg       0.58      0.59      0.58       658\n",
      "\n"
     ]
    }
   ],
   "source": [
    "lda_pipeline = Pipeline([\n",
    "    (\"scaler\", StandardScaler()),\n",
    "    (\"lda\", LinearDiscriminantAnalysis())\n",
    "])\n",
    "\n",
    "# Define hyperparameter grid\n",
    "param_grid = {\n",
    "    \"lda__solver\": [\"svd\", \"lsqr\", \"eigen\"],\n",
    "    \"lda__shrinkage\": [None, \"auto\"]\n",
    "}\n",
    "\n",
    "stratified_cv = StratifiedKFold(n_splits=5, shuffle=True, random_state=42)\n",
    "\n",
    "grid_search = GridSearchCV(\n",
    "    lda_pipeline,\n",
    "    param_grid,\n",
    "    cv=stratified_cv,\n",
    "    scoring=\"accuracy\",\n",
    "    n_jobs=-1\n",
    ")\n",
    "\n",
    "# Fit the model\n",
    "# Use warnings.catch_warnings() to suppress warnings\n",
    "with warnings.catch_warnings():\n",
    "    warnings.filterwarnings(\"ignore\", category=FitFailedWarning)\n",
    "    warnings.filterwarnings(\"ignore\", category=UserWarning)\n",
    "    \n",
    "    # Run the grid search\n",
    "    grid_search.fit(X, y)\n",
    "best_params = grid_search.best_params_\n",
    "best_score = grid_search.best_score_\n",
    "\n",
    "print(f\"Best Parameters: {best_params}\")\n",
    "print(f\"Best Cross-Validated Accuracy: {best_score:.4f}\")\n",
    "\n",
    "# Define the final pipeline\n",
    "final_lda_pipeline = Pipeline([\n",
    "    (\"scaler\", StandardScaler()),\n",
    "    (\"lda\", LinearDiscriminantAnalysis(\n",
    "        solver=best_params[\"lda__solver\"],\n",
    "        shrinkage=best_params[\"lda__shrinkage\"]\n",
    "    ))\n",
    "])\n",
    "\n",
    "# Train-test split\n",
    "X_train, X_test, y_train, y_test = train_test_split(X, y, test_size=0.3, stratify=y, random_state=42)\n",
    "\n",
    "# Fit the final model\n",
    "final_lda_pipeline.fit(X_train, y_train)\n",
    "y_pred = final_lda_pipeline.predict(X_test)\n",
    "\n",
    "# Evaluate the model\n",
    "lda_cm = confusion_matrix(y_test, y_pred)\n",
    "print(\"Confusion Matrix:\")\n",
    "lda_df = pd.DataFrame(\n",
    "    lda_cm,\n",
    "    index=label_encoder.classes_,  # Actual class labels\n",
    "    columns=label_encoder.classes_  # Predicted class labels\n",
    ")\n",
    "print(lda_df)\n",
    "print(\"Classification Report:\")\n",
    "print(classification_report(y_test, y_pred, target_names=label_encoder.classes_))\n"
   ]
  },
  {
   "cell_type": "markdown",
   "metadata": {},
   "source": [
    "The LDA model achieved an accuracy of 59%, performing best on Hybrid and Indica strains but struggling significantly with Sativa, where only 42 out of 123 samples were predicted correctly. Precision, recall, and F1-scores show the model is more reliable for Hybrid and Indica than for Sativa. Overall, the model does a moderate job but needs improvement, especially in distinguishing Sativa strains. The results are similar to the results of the decision tree model."
   ]
  },
  {
   "cell_type": "markdown",
   "metadata": {},
   "source": [
    "### QDA"
   ]
  },
  {
   "cell_type": "code",
   "execution_count": 14,
   "metadata": {},
   "outputs": [
    {
     "name": "stdout",
     "output_type": "stream",
     "text": [
      "Best Parameters: {'qda__reg_param': 1.0}\n",
      "Best Cross-Validated Accuracy: 0.6244\n",
      "Confusion Matrix:\n",
      "        hybrid  indica  sativa\n",
      "hybrid     212      69      56\n",
      "indica      63     128       7\n",
      "sativa      67       7      49\n",
      "Classification Report:\n",
      "              precision    recall  f1-score   support\n",
      "\n",
      "      hybrid       0.62      0.63      0.62       337\n",
      "      indica       0.63      0.65      0.64       198\n",
      "      sativa       0.44      0.40      0.42       123\n",
      "\n",
      "    accuracy                           0.59       658\n",
      "   macro avg       0.56      0.56      0.56       658\n",
      "weighted avg       0.59      0.59      0.59       658\n",
      "\n"
     ]
    }
   ],
   "source": [
    "qda_pipeline = Pipeline([\n",
    "    (\"scaler\", StandardScaler()),\n",
    "    (\"qda\", QuadraticDiscriminantAnalysis())\n",
    "])\n",
    "\n",
    "# Define hyperparameter grid\n",
    "param_grid = {\n",
    "    \"qda__reg_param\": [0.0, 0.01, 0.1, 0.2, 0.5, 0.7, 1.0]  # Regularization parameter\n",
    "}\n",
    "\n",
    "grid_search = GridSearchCV(\n",
    "    qda_pipeline,\n",
    "    param_grid,\n",
    "    cv=stratified_cv,\n",
    "    scoring=\"accuracy\",\n",
    "    n_jobs=-1\n",
    ")\n",
    "\n",
    "# Use warnings.catch_warnings() to suppress \"Variables are collinear\" warning\n",
    "warnings.filterwarnings(\"ignore\", message=\"Variables are collinear\")\n",
    "# Fit the grid search\n",
    "grid_search.fit(X, y)\n",
    "best_params = grid_search.best_params_\n",
    "best_score = grid_search.best_score_\n",
    "\n",
    "print(f\"Best Parameters: {best_params}\")\n",
    "print(f\"Best Cross-Validated Accuracy: {best_score:.4f}\")\n",
    "\n",
    "# Define the final pipeline\n",
    "final_qda_pipeline = Pipeline([\n",
    "    (\"scaler\", StandardScaler()),\n",
    "    (\"qda\", QuadraticDiscriminantAnalysis(reg_param=best_params[\"qda__reg_param\"]))\n",
    "])\n",
    "\n",
    "# Train-test split\n",
    "X_train, X_test, y_train, y_test = train_test_split(X, y, test_size=0.3, stratify=y, random_state=42)\n",
    "\n",
    "# Fit the final model\n",
    "final_qda_pipeline.fit(X_train, y_train)\n",
    "y_pred = final_qda_pipeline.predict(X_test)\n",
    "\n",
    "# Evaluate the final model\n",
    "qda_cm = confusion_matrix(y_test, y_pred)\n",
    "print(\"Confusion Matrix:\")\n",
    "qda_df = pd.DataFrame(\n",
    "    qda_cm,\n",
    "    index=label_encoder.classes_,  # Actual class labels\n",
    "    columns=label_encoder.classes_  # Predicted class labels\n",
    ")\n",
    "print(qda_df)\n",
    "print(\"Classification Report:\")\n",
    "print(classification_report(y_test, y_pred, target_names=label_encoder.classes_))\n"
   ]
  },
  {
   "cell_type": "markdown",
   "metadata": {},
   "source": [
    "The QDA model achieved an accuracy of 59%, performing best on Hybrid and Indica strains but struggling significantly with Sativa, where only 49 out of 123 samples were predicted correctly. Precision, recall, and F1-scores show the model is more reliable for Hybrid and Indica than for Sativa. Like the Decison Tree and LDA Models, the model does a moderate job but needs improvement, especially in distinguishing Sativa strains."
   ]
  },
  {
   "cell_type": "markdown",
   "metadata": {},
   "source": [
    "### KNN"
   ]
  },
  {
   "cell_type": "code",
   "execution_count": 15,
   "metadata": {},
   "outputs": [
    {
     "name": "stdout",
     "output_type": "stream",
     "text": [
      "Best Parameters: {'knn__n_neighbors': 19}\n",
      "Best Cross-Validated Accuracy: 0.5851\n",
      "Confusion Matrix:\n",
      "        hybrid  indica  sativa\n",
      "hybrid     271      53      13\n",
      "indica     101      97       0\n",
      "sativa      98      14      11\n",
      "Classification Report:\n",
      "              precision    recall  f1-score   support\n",
      "\n",
      "      hybrid       0.58      0.80      0.67       337\n",
      "      indica       0.59      0.49      0.54       198\n",
      "      sativa       0.46      0.09      0.15       123\n",
      "\n",
      "    accuracy                           0.58       658\n",
      "   macro avg       0.54      0.46      0.45       658\n",
      "weighted avg       0.56      0.58      0.53       658\n",
      "\n"
     ]
    }
   ],
   "source": [
    "knn_pipeline = Pipeline([\n",
    "    (\"scaler\", StandardScaler()),\n",
    "    (\"knn\", KNeighborsClassifier())\n",
    "])\n",
    "\n",
    "# Define hyperparameter grid\n",
    "param_grid = {'knn__n_neighbors': range(1, 21)}\n",
    "\n",
    "# Perform hyperparameter tuning\n",
    "grid_search = GridSearchCV(\n",
    "    knn_pipeline,\n",
    "    param_grid,\n",
    "    cv=stratified_cv,\n",
    "    scoring=\"accuracy\",\n",
    "    n_jobs=-1\n",
    ")\n",
    "\n",
    "# Fit the model\n",
    "grid_search.fit(X, y)\n",
    "\n",
    "best_params = grid_search.best_params_\n",
    "best_score = grid_search.best_score_\n",
    "\n",
    "print(f\"Best Parameters: {best_params}\")\n",
    "print(f\"Best Cross-Validated Accuracy: {best_score:.4f}\")\n",
    "\n",
    "# Define the final pipeline with best parameters\n",
    "final_knn_pipeline = Pipeline([\n",
    "    (\"scaler\", StandardScaler()),\n",
    "    (\"knn\", KNeighborsClassifier(\n",
    "        n_neighbors=best_params[\"knn__n_neighbors\"]\n",
    "    ))\n",
    "])\n",
    "\n",
    "# Train-test split\n",
    "X_train, X_test, y_train, y_test = train_test_split(X, y, test_size=0.3, stratify=y, random_state=42)\n",
    "\n",
    "# Fit the final model\n",
    "final_knn_pipeline.fit(X_train, y_train)\n",
    "y_pred = final_knn_pipeline.predict(X_test)\n",
    "\n",
    "# Evaluate the final model\n",
    "knn_cm = confusion_matrix(y_test, y_pred)\n",
    "print(\"Confusion Matrix:\")\n",
    "knn_df = pd.DataFrame(\n",
    "    knn_cm,\n",
    "    index=label_encoder.classes_,  # Actual class labels\n",
    "    columns=label_encoder.classes_  # Predicted class labels\n",
    ")\n",
    "print(knn_df)\n",
    "print(\"Classification Report:\")\n",
    "print(classification_report(y_test, y_pred, target_names=label_encoder.classes_))\n"
   ]
  },
  {
   "cell_type": "markdown",
   "metadata": {},
   "source": [
    "The KNN model achieved an accuracy of 58%, performing best on Hybrid strains but struggling significantly with Sativa, where only 11 out of 123 samples were predicted correctly. Precision, recall, and F1-scores show the model is more reliable for Hybrid and Indica strains than for Sativa. Similar to all of the other models in Part Two, KNN does a moderate job but needs significant improvement, especially in identifying Sativa strains."
   ]
  },
  {
   "cell_type": "markdown",
   "metadata": {},
   "source": [
    "## Q3  \n",
    "Were your metrics better or worse than in Part One? Why? Which categories were most likely to get mixed up, according to the confusion matrices? Why?"
   ]
  },
  {
   "cell_type": "markdown",
   "metadata": {},
   "source": [
    "The metrics in Part Two were much worse compared to Part One. This is likely because the dataset became more complex with the addition of the Hybrid category. Hybrids often combine characteristics of both Sativa and Indica, which makes it harder for models to classify them correctly. Sativa was the most difficult to classify, with very low recall and F1-scores, as it was often confused with Hybrid or Indica. This confusion probably happens because Sativa shares some effects with the other strains. While Hybrid and Indica had better results than Sativa, the models still struggled to consistently distinguish between all three categories."
   ]
  },
  {
   "cell_type": "markdown",
   "metadata": {},
   "source": [
    "# Part Three: Multiclass from Binary  \n",
    "Consider two models designed for binary classification: SVC and Logistic Regression."
   ]
  },
  {
   "cell_type": "markdown",
   "metadata": {},
   "source": [
    "## Q1  \n",
    "Fit and report metrics for OvR versions of the models. That is, for each of the two model types, create three models:  \n",
    "\n",
    "- Indica vs. Not Indica  \n",
    "\n",
    "- Sativa vs. Not Sativa  \n",
    "\n",
    "- Hybrid vs. Not Hybrid  "
   ]
  },
  {
   "cell_type": "markdown",
   "metadata": {},
   "source": [
    "### SVC"
   ]
  },
  {
   "cell_type": "code",
   "execution_count": 52,
   "metadata": {},
   "outputs": [],
   "source": [
    "def svc_ovr(X, y, labels, target_label):\n",
    "    \"\"\"\n",
    "    One-vs-Rest (OvR) classification for SVC with stratified cross-validation and labeled outputs.\n",
    "    \n",
    "    Parameters:\n",
    "    - X: pandas DataFrame of feature variables\n",
    "    - y: pandas Series of target variable\n",
    "    - labels: list of string labels corresponding to the classes\n",
    "    - target_label: string description of the OvR comparison\n",
    "    \n",
    "    Returns:\n",
    "    - None: Prints best parameters, accuracy, confusion matrix, and classification report.\n",
    "    \"\"\"\n",
    "\n",
    "    # Define pipeline\n",
    "    svc_pipeline = Pipeline([\n",
    "        (\"scaler\", StandardScaler()),\n",
    "        (\"svc\", SVC())\n",
    "    ])\n",
    "    \n",
    "    # Define parameter grid\n",
    "    param_grid = {\n",
    "        \"svc__C\": [0.1, 1, 10, 100]\n",
    "    }\n",
    "    \n",
    "    # Perform grid search\n",
    "    grid_search = GridSearchCV(\n",
    "        svc_pipeline,\n",
    "        param_grid,\n",
    "        cv=stratified_cv,\n",
    "        scoring=\"accuracy\",\n",
    "        n_jobs=-1\n",
    "    )\n",
    "    \n",
    "    # Fit the model\n",
    "    grid_search.fit(X, y)\n",
    "    \n",
    "    # Print best parameters and accuracy\n",
    "    print(f\"{target_label} Results:\")\n",
    "    print(f\"Best Parameters: {grid_search.best_params_}\")\n",
    "    print(f\"Best Cross-Validated Accuracy: {grid_search.best_score_:.4f}\")\n",
    "    \n",
    "    # Evaluate on test data\n",
    "    final_svc_pipeline = Pipeline([\n",
    "        (\"scaler\", StandardScaler()),\n",
    "        (\"svc\", SVC(C=grid_search.best_params_[\"svc__C\"]))\n",
    "    ])\n",
    "    X_train, X_test, y_train, y_test = train_test_split(X, y, test_size=0.3, stratify=y, random_state=42)\n",
    "    final_svc_pipeline.fit(X_train, y_train)\n",
    "    y_pred = final_svc_pipeline.predict(X_test)\n",
    "    \n",
    "    # Confusion matrix and classification report with labels\n",
    "    svc_cm = confusion_matrix(y_test, y_pred)\n",
    "    svc_df = pd.DataFrame(\n",
    "        svc_cm,\n",
    "        index=labels,  # Actual class labels\n",
    "        columns=labels  # Predicted class labels\n",
    "    )\n",
    "    print(\"Confusion Matrix:\")\n",
    "    print(svc_df)\n",
    "    print(\"Classification Report:\")\n",
    "    print(classification_report(y_test, y_pred, target_names=labels))"
   ]
  },
  {
   "cell_type": "code",
   "execution_count": 53,
   "metadata": {},
   "outputs": [
    {
     "name": "stdout",
     "output_type": "stream",
     "text": [
      "Indica vs. Not Indica Results:\n",
      "Best Parameters: {'svc__C': 1}\n",
      "Best Cross-Validated Accuracy: 0.7773\n",
      "Confusion Matrix:\n",
      "            Not Indica  Indica\n",
      "Not Indica         410      50\n",
      "Indica              88     110\n",
      "Classification Report:\n",
      "              precision    recall  f1-score   support\n",
      "\n",
      "  Not Indica       0.82      0.89      0.86       460\n",
      "      Indica       0.69      0.56      0.61       198\n",
      "\n",
      "    accuracy                           0.79       658\n",
      "   macro avg       0.76      0.72      0.74       658\n",
      "weighted avg       0.78      0.79      0.78       658\n",
      "\n"
     ]
    }
   ],
   "source": [
    "# Indica vs. Not Indica\n",
    "y_indica = (cannabis['Type'] == 'indica').astype(int)  # Binary target for Indica\n",
    "svc_ovr(X, y_indica, [\"Not Indica\", \"Indica\"], \"Indica vs. Not Indica\")"
   ]
  },
  {
   "cell_type": "code",
   "execution_count": 54,
   "metadata": {},
   "outputs": [
    {
     "name": "stdout",
     "output_type": "stream",
     "text": [
      "Sativa vs. Not Sativa Results:\n",
      "Best Parameters: {'svc__C': 1}\n",
      "Best Cross-Validated Accuracy: 0.8202\n",
      "Confusion Matrix:\n",
      "            Not Sativa  Sativa\n",
      "Not Sativa         518      17\n",
      "Sativa             104      19\n",
      "Classification Report:\n",
      "              precision    recall  f1-score   support\n",
      "\n",
      "  Not Sativa       0.83      0.97      0.90       535\n",
      "      Sativa       0.53      0.15      0.24       123\n",
      "\n",
      "    accuracy                           0.82       658\n",
      "   macro avg       0.68      0.56      0.57       658\n",
      "weighted avg       0.78      0.82      0.77       658\n",
      "\n"
     ]
    }
   ],
   "source": [
    "# Sativa vs. Not Sativa\n",
    "y_sativa = (cannabis['Type'] == 'sativa').astype(int)\n",
    "svc_ovr(X, y_sativa, [\"Not Sativa\", \"Sativa\"], \"Sativa vs. Not Sativa\")"
   ]
  },
  {
   "cell_type": "code",
   "execution_count": 55,
   "metadata": {},
   "outputs": [
    {
     "name": "stdout",
     "output_type": "stream",
     "text": [
      "Hybrid vs. Not Hybrid Results:\n",
      "Best Parameters: {'svc__C': 1}\n",
      "Best Cross-Validated Accuracy: 0.6194\n",
      "Confusion Matrix:\n",
      "            Not Hybrid  Hybrid\n",
      "Not Hybrid         189     132\n",
      "Hybrid             109     228\n",
      "Classification Report:\n",
      "              precision    recall  f1-score   support\n",
      "\n",
      "  Not Hybrid       0.63      0.59      0.61       321\n",
      "      Hybrid       0.63      0.68      0.65       337\n",
      "\n",
      "    accuracy                           0.63       658\n",
      "   macro avg       0.63      0.63      0.63       658\n",
      "weighted avg       0.63      0.63      0.63       658\n",
      "\n"
     ]
    }
   ],
   "source": [
    "# Hybrid vs. Not Hybrid\n",
    "y_hybrid = (cannabis['Type'] == 'hybrid').astype(int)\n",
    "svc_ovr(X, y_hybrid, [\"Not Hybrid\", \"Hybrid\"], \"Hybrid vs. Not Hybrid\")"
   ]
  },
  {
   "cell_type": "markdown",
   "metadata": {},
   "source": [
    "### Logistic Regression"
   ]
  },
  {
   "cell_type": "code",
   "execution_count": 60,
   "metadata": {},
   "outputs": [],
   "source": [
    "def logreg_ovr(X, y, labels, target_label):\n",
    "    \"\"\"\n",
    "    One-vs-Rest (OvR) classification for Logistic Regression with stratified cross-validation \n",
    "    and labeled outputs for the confusion matrix and classification report.\n",
    "    \n",
    "    Parameters:\n",
    "    - X: pandas DataFrame of feature variables\n",
    "    - y: pandas Series of target variable\n",
    "    - labels: list of string labels corresponding to the classes\n",
    "    - target_label: string description of the OvR comparison\n",
    "    \n",
    "    Returns:\n",
    "    - None: Prints best parameters, accuracy, confusion matrix, and classification report.\n",
    "    \"\"\"\n",
    "\n",
    "    # Define pipeline\n",
    "    logreg_pipeline = Pipeline([\n",
    "        (\"scaler\", StandardScaler()),\n",
    "        (\"logreg\", LogisticRegression(max_iter=500))\n",
    "    ])\n",
    "    \n",
    "    # Define parameter grid\n",
    "    param_grid = {\n",
    "        \"logreg__C\": [0.01, 0.1, 1, 10, 100],  # Regularization strength\n",
    "        \"logreg__penalty\": [\"l1\", \"l2\"],       # Regularization type\n",
    "        \"logreg__solver\": [\"liblinear\"]       # Solver for l1 and l2 penalties\n",
    "    }\n",
    "    \n",
    "    # Perform grid search\n",
    "    grid_search = GridSearchCV(\n",
    "        logreg_pipeline,\n",
    "        param_grid,\n",
    "        cv=stratified_cv,\n",
    "        scoring=\"accuracy\",\n",
    "        n_jobs=-1\n",
    "    )\n",
    "    \n",
    "    # Fit the model\n",
    "    grid_search.fit(X, y)\n",
    "    \n",
    "    # Print best parameters and accuracy\n",
    "    print(f\"{target_label} Results:\")\n",
    "    print(f\"Best Parameters: {grid_search.best_params_}\")\n",
    "    print(f\"Best Cross-Validated Accuracy: {grid_search.best_score_:.4f}\")\n",
    "    \n",
    "    # Evaluate on test data\n",
    "    final_logreg_pipeline = Pipeline([\n",
    "        (\"scaler\", StandardScaler()),\n",
    "        (\"logreg\", LogisticRegression(\n",
    "            C=grid_search.best_params_[\"logreg__C\"],\n",
    "            penalty=grid_search.best_params_[\"logreg__penalty\"],\n",
    "            solver=grid_search.best_params_[\"logreg__solver\"]\n",
    "        ))\n",
    "    ])\n",
    "    X_train, X_test, y_train, y_test = train_test_split(X, y, test_size=0.3, stratify=y, random_state=42)\n",
    "    final_logreg_pipeline.fit(X_train, y_train)\n",
    "    y_pred = final_logreg_pipeline.predict(X_test)\n",
    "    \n",
    "    # Confusion matrix and classification report with labels\n",
    "    logreg_cm = confusion_matrix(y_test, y_pred)\n",
    "    logreg_df = pd.DataFrame(\n",
    "        logreg_cm,\n",
    "        index=labels,  # Actual class labels\n",
    "        columns=labels  # Predicted class labels\n",
    "    )\n",
    "    print(\"Confusion Matrix:\")\n",
    "    print(logreg_df)\n",
    "    print(\"Classification Report:\")\n",
    "    print(classification_report(y_test, y_pred, target_names=labels))"
   ]
  },
  {
   "cell_type": "code",
   "execution_count": 61,
   "metadata": {},
   "outputs": [
    {
     "name": "stdout",
     "output_type": "stream",
     "text": [
      "Indica vs. Not Indica Results:\n",
      "Best Parameters: {'logreg__C': 0.1, 'logreg__penalty': 'l2', 'logreg__solver': 'liblinear'}\n",
      "Best Cross-Validated Accuracy: 0.7987\n",
      "Confusion Matrix:\n",
      "            Not Indica  Indica\n",
      "Not Indica         402      58\n",
      "Indica              65     133\n",
      "Classification Report:\n",
      "              precision    recall  f1-score   support\n",
      "\n",
      "  Not Indica       0.86      0.87      0.87       460\n",
      "      Indica       0.70      0.67      0.68       198\n",
      "\n",
      "    accuracy                           0.81       658\n",
      "   macro avg       0.78      0.77      0.78       658\n",
      "weighted avg       0.81      0.81      0.81       658\n",
      "\n"
     ]
    }
   ],
   "source": [
    "# Indica vs. Not Indica\n",
    "logreg_ovr(X, y_indica, [\"Not Indica\", \"Indica\"], \"Indica vs. Not Indica\")"
   ]
  },
  {
   "cell_type": "code",
   "execution_count": 62,
   "metadata": {},
   "outputs": [
    {
     "name": "stdout",
     "output_type": "stream",
     "text": [
      "Sativa vs. Not Sativa Results:\n",
      "Best Parameters: {'logreg__C': 0.1, 'logreg__penalty': 'l2', 'logreg__solver': 'liblinear'}\n",
      "Best Cross-Validated Accuracy: 0.8270\n",
      "Confusion Matrix:\n",
      "            Not Sativa  Sativa\n",
      "Not Sativa         499      36\n",
      "Sativa              90      33\n",
      "Classification Report:\n",
      "              precision    recall  f1-score   support\n",
      "\n",
      "  Not Sativa       0.85      0.93      0.89       535\n",
      "      Sativa       0.48      0.27      0.34       123\n",
      "\n",
      "    accuracy                           0.81       658\n",
      "   macro avg       0.66      0.60      0.62       658\n",
      "weighted avg       0.78      0.81      0.79       658\n",
      "\n"
     ]
    }
   ],
   "source": [
    "# Sativa vs. Not Sativa\n",
    "logreg_ovr(X, y_sativa, [\"Not Sativa\", \"Sativa\"], \"Sativa vs. Not Sativa\")"
   ]
  },
  {
   "cell_type": "code",
   "execution_count": 63,
   "metadata": {},
   "outputs": [
    {
     "name": "stdout",
     "output_type": "stream",
     "text": [
      "Hybrid vs. Not Hybrid Results:\n",
      "Best Parameters: {'logreg__C': 0.1, 'logreg__penalty': 'l1', 'logreg__solver': 'liblinear'}\n",
      "Best Cross-Validated Accuracy: 0.6303\n",
      "Confusion Matrix:\n",
      "            Not Hybrid  Hybrid\n",
      "Not Hybrid         180     141\n",
      "Hybrid              94     243\n",
      "Classification Report:\n",
      "              precision    recall  f1-score   support\n",
      "\n",
      "  Not Hybrid       0.66      0.56      0.61       321\n",
      "      Hybrid       0.63      0.72      0.67       337\n",
      "\n",
      "    accuracy                           0.64       658\n",
      "   macro avg       0.64      0.64      0.64       658\n",
      "weighted avg       0.64      0.64      0.64       658\n",
      "\n"
     ]
    }
   ],
   "source": [
    "# Hybrid vs. Not Hybrid\n",
    "logreg_ovr(X, y_hybrid, [\"Not Hybrid\", \"Hybrid\"], \"Hybrid vs. Not Hybrid\")"
   ]
  },
  {
   "cell_type": "markdown",
   "metadata": {},
   "source": [
    "The OVR results show that the Logistic Regression models performed slightly better than the SVC models."
   ]
  },
  {
   "cell_type": "markdown",
   "metadata": {},
   "source": [
    "## Q2  \n",
    "Which of the six models did the best job distinguishing the target category from the rest? Which did the worst? Does this make intuitive sense?"
   ]
  },
  {
   "cell_type": "markdown",
   "metadata": {},
   "source": [
    "The results show that \"Sativa vs. Not Sativa\" was the easiest to classify, as both SVC and Logistic Regression had higher accuracy, precision, and recall. On the other hand, \"Hybrid vs. Not Hybrid\" was the hardest, with the lowest performance for both models. This makes sense because Hybrid strains combine traits from both Sativa and Indica, making them harder to separate, while Sativa has more distinct features that set it apart."
   ]
  },
  {
   "cell_type": "markdown",
   "metadata": {},
   "source": [
    "## Q3  \n",
    "Fit and report metrics for OvO versions of the models. That is, for each of the two model types, create three models:  \n",
    "\n",
    "- Indica vs. Sativa  \n",
    "\n",
    "- Indica vs. Hybrid  \n",
    "\n",
    "- Hybrid vs. Sativa  "
   ]
  },
  {
   "cell_type": "markdown",
   "metadata": {},
   "source": [
    "### SVC"
   ]
  },
  {
   "cell_type": "code",
   "execution_count": 68,
   "metadata": {},
   "outputs": [],
   "source": [
    "def svc_ovo(X, y, class_pair, description, class_labels):\n",
    "    \"\"\"\n",
    "    Perform one-vs-one (OvO) classification with SVC for a given pair of classes.\n",
    "\n",
    "    Parameters:\n",
    "    ----------\n",
    "    X : array-like of shape (n_samples, n_features)\n",
    "        The feature matrix.\n",
    "    y : array-like of shape (n_samples,)\n",
    "        The target variable containing the class labels.\n",
    "    class_pair : list of int\n",
    "        A list containing the two class labels for OvO classification.\n",
    "        Example: [0, 1] for \"Indica vs. Sativa\".\n",
    "    description : str\n",
    "        A string description of the OvO analysis being performed (e.g., \"Indica vs. Sativa\").\n",
    "    class_labels : list of str\n",
    "        A list containing the string labels for the classes in `class_pair`.\n",
    "        Example: [\"Indica\", \"Sativa\"].\n",
    "\n",
    "    Returns:\n",
    "    -------\n",
    "    None\n",
    "        Prints the best parameters, cross-validated accuracy, confusion matrix, and classification report.\n",
    "    \"\"\"\n",
    "\n",
    "    # Filter for the two classes in the pair\n",
    "    X_pair = X[y.isin(class_pair)]\n",
    "    y_pair = y[y.isin(class_pair)]\n",
    "\n",
    "    # Binary labels for the two classes\n",
    "    y_pair = np.where(y_pair == class_pair[0], 0, 1)\n",
    "\n",
    "    # Train-test split\n",
    "    X_train, X_test, y_train, y_test = train_test_split(X_pair, y_pair, test_size=0.3, stratify=y_pair, random_state=42)\n",
    "\n",
    "    # Define pipeline\n",
    "    svc_pipeline = Pipeline([\n",
    "        (\"scaler\", StandardScaler()),\n",
    "        (\"svc\", SVC())\n",
    "    ])\n",
    "\n",
    "    # Define parameter grid\n",
    "    param_grid = {\n",
    "        \"svc__C\": [0.1, 1, 10, 100]  # Regularization parameter\n",
    "    }\n",
    "\n",
    "    # Grid search with stratified cross-validation\n",
    "    grid_search = GridSearchCV(\n",
    "        svc_pipeline,\n",
    "        param_grid,\n",
    "        scoring=\"accuracy\",\n",
    "        cv=stratified_cv,\n",
    "        n_jobs=-1\n",
    "    )\n",
    "    grid_search.fit(X_train, y_train)\n",
    "\n",
    "    # Best parameters and cross-validated score\n",
    "    best_params = grid_search.best_params_\n",
    "    best_score = grid_search.best_score_\n",
    "\n",
    "    # Final model and evaluation\n",
    "    final_svc_pipeline = Pipeline([\n",
    "        (\"scaler\", StandardScaler()),\n",
    "        (\"svc\", SVC(C=best_params[\"svc__C\"], class_weight=\"balanced\"))\n",
    "    ])\n",
    "    final_svc_pipeline.fit(X_train, y_train)\n",
    "    y_pred = final_svc_pipeline.predict(X_test)\n",
    "\n",
    "    # Print results\n",
    "    print(f\"{description} Results:\")\n",
    "    print(f\"Best Parameters: {best_params}\")\n",
    "    print(f\"Best Cross-Validated Accuracy: {best_score:.4f}\")\n",
    "    print(\"Confusion Matrix:\")\n",
    "    svc_cm = confusion_matrix(y_test, y_pred)\n",
    "    svc_df = pd.DataFrame(\n",
    "        svc_cm,\n",
    "        index=class_labels,\n",
    "        columns=class_labels\n",
    "    )\n",
    "    print(svc_df)\n",
    "    print(\"Classification Report:\")\n",
    "    print(classification_report(y_test, y_pred, target_names=class_labels))"
   ]
  },
  {
   "cell_type": "code",
   "execution_count": 70,
   "metadata": {},
   "outputs": [
    {
     "name": "stdout",
     "output_type": "stream",
     "text": [
      "Indica vs. Sativa Results:\n",
      "Best Parameters: {'svc__C': 1}\n",
      "Best Cross-Validated Accuracy: 0.8098\n",
      "Confusion Matrix:\n",
      "        Indica  Sativa\n",
      "Indica     174      24\n",
      "Sativa      20     103\n",
      "Classification Report:\n",
      "              precision    recall  f1-score   support\n",
      "\n",
      "      Indica       0.90      0.88      0.89       198\n",
      "      Sativa       0.81      0.84      0.82       123\n",
      "\n",
      "    accuracy                           0.86       321\n",
      "   macro avg       0.85      0.86      0.86       321\n",
      "weighted avg       0.86      0.86      0.86       321\n",
      "\n"
     ]
    }
   ],
   "source": [
    "y_ovo = cannabis[\"Type\"].map({\"indica\": 0, \"sativa\": 1, \"hybrid\": 2})  # Map classes to integers\n",
    "\n",
    "# Indica vs. Sativa\n",
    "svc_ovo(X, y_ovo, [0, 1], \"Indica vs. Sativa\", [\"Indica\", \"Sativa\"])"
   ]
  },
  {
   "cell_type": "code",
   "execution_count": 71,
   "metadata": {},
   "outputs": [
    {
     "name": "stdout",
     "output_type": "stream",
     "text": [
      "Indica vs. Hybrid Results:\n",
      "Best Parameters: {'svc__C': 1}\n",
      "Best Cross-Validated Accuracy: 0.7298\n",
      "Confusion Matrix:\n",
      "        Indica  Hybrid\n",
      "Indica     133      65\n",
      "Hybrid      62     275\n",
      "Classification Report:\n",
      "              precision    recall  f1-score   support\n",
      "\n",
      "      Indica       0.68      0.67      0.68       198\n",
      "      Hybrid       0.81      0.82      0.81       337\n",
      "\n",
      "    accuracy                           0.76       535\n",
      "   macro avg       0.75      0.74      0.74       535\n",
      "weighted avg       0.76      0.76      0.76       535\n",
      "\n"
     ]
    }
   ],
   "source": [
    "# Indica vs. Hybrid\n",
    "svc_ovo(X, y_ovo, [0, 2], \"Indica vs. Hybrid\", [\"Indica\", \"Hybrid\"])"
   ]
  },
  {
   "cell_type": "code",
   "execution_count": 72,
   "metadata": {},
   "outputs": [
    {
     "name": "stdout",
     "output_type": "stream",
     "text": [
      "Hybrid vs. Sativa Results:\n",
      "Best Parameters: {'svc__C': 0.1}\n",
      "Best Cross-Validated Accuracy: 0.7332\n",
      "Confusion Matrix:\n",
      "        Hybrid  Sativa\n",
      "Hybrid     203     134\n",
      "Sativa      25      98\n",
      "Classification Report:\n",
      "              precision    recall  f1-score   support\n",
      "\n",
      "      Hybrid       0.89      0.60      0.72       337\n",
      "      Sativa       0.42      0.80      0.55       123\n",
      "\n",
      "    accuracy                           0.65       460\n",
      "   macro avg       0.66      0.70      0.64       460\n",
      "weighted avg       0.77      0.65      0.67       460\n",
      "\n"
     ]
    }
   ],
   "source": [
    "# Hybrid vs. Sativa\n",
    "svc_ovo(X, y_ovo, [2, 1], \"Hybrid vs. Sativa\", [\"Hybrid\", \"Sativa\"])"
   ]
  },
  {
   "cell_type": "markdown",
   "metadata": {},
   "source": [
    "### Logistic Regression"
   ]
  },
  {
   "cell_type": "code",
   "execution_count": 73,
   "metadata": {},
   "outputs": [],
   "source": [
    "def logreg_ovo(X, y, class_pair, description, class_labels):\n",
    "    \"\"\"\n",
    "    Perform one-vs-one (OvO) classification with Logistic Regression for a given pair of classes.\n",
    "\n",
    "    Parameters:\n",
    "    ----------\n",
    "    X : array-like of shape (n_samples, n_features)\n",
    "        The feature matrix.\n",
    "    y : array-like of shape (n_samples,)\n",
    "        The target variable containing the class labels.\n",
    "    class_pair : list of int\n",
    "        A list containing the two class labels for OvO classification.\n",
    "        Example: [0, 1] for \"Indica vs. Sativa\".\n",
    "    description : str\n",
    "        A string description of the OvO analysis being performed (e.g., \"Indica vs. Sativa\").\n",
    "    class_labels : list of str\n",
    "        A list containing the string labels for the classes in `class_pair`.\n",
    "        Example: [\"Indica\", \"Sativa\"].\n",
    "\n",
    "    Returns:\n",
    "    -------\n",
    "    None\n",
    "        Prints the best parameters, cross-validated accuracy, confusion matrix, and classification report.\n",
    "    \"\"\"\n",
    "    # Filter for the two classes in the pair\n",
    "    X_pair = X[y.isin(class_pair)]\n",
    "    y_pair = y[y.isin(class_pair)]\n",
    "\n",
    "    # Binary labels for the two classes\n",
    "    y_pair = np.where(y_pair == class_pair[0], 0, 1)\n",
    "\n",
    "    # Train-test split\n",
    "    X_train, X_test, y_train, y_test = train_test_split(X_pair, y_pair, test_size=0.3, stratify=y_pair, random_state=42)\n",
    "\n",
    "    # Define pipeline\n",
    "    logreg_pipeline = Pipeline([\n",
    "        (\"scaler\", StandardScaler()),\n",
    "        (\"logreg\", LogisticRegression(max_iter=1000))\n",
    "    ])\n",
    "\n",
    "    # Define parameter grid\n",
    "    param_grid = {\n",
    "        \"logreg__C\": [0.01, 0.1, 1, 10, 100],  # Regularization strength\n",
    "        \"logreg__penalty\": [\"l1\", \"l2\"],       # Regularization type\n",
    "        \"logreg__solver\": [\"liblinear\"]       # Solver compatible with l1 and l2\n",
    "    }\n",
    "\n",
    "    # Grid search with stratified cross-validation\n",
    "    grid_search = GridSearchCV(\n",
    "        logreg_pipeline,\n",
    "        param_grid,\n",
    "        scoring=\"accuracy\",\n",
    "        cv=stratified_cv,\n",
    "        n_jobs=-1\n",
    "    )\n",
    "    grid_search.fit(X_train, y_train)\n",
    "\n",
    "    # Best parameters and cross-validated score\n",
    "    best_params = grid_search.best_params_\n",
    "    best_score = grid_search.best_score_\n",
    "\n",
    "    # Final model and evaluation\n",
    "    final_logreg_pipeline = Pipeline([\n",
    "        (\"scaler\", StandardScaler()),\n",
    "        (\"logreg\", LogisticRegression(\n",
    "            C=best_params[\"logreg__C\"],\n",
    "            penalty=best_params[\"logreg__penalty\"],\n",
    "            solver=best_params[\"logreg__solver\"]\n",
    "        ))\n",
    "    ])\n",
    "    final_logreg_pipeline.fit(X_train, y_train)\n",
    "    y_pred = final_logreg_pipeline.predict(X_test)\n",
    "\n",
    "    # Print results\n",
    "    print(f\"{description} Results:\")\n",
    "    print(f\"Best Parameters: {best_params}\")\n",
    "    print(f\"Best Cross-Validated Accuracy: {best_score:.4f}\")\n",
    "    print(\"Confusion Matrix:\")\n",
    "    logreg_cm = confusion_matrix(y_test, y_pred)\n",
    "    logreg_df = pd.DataFrame(\n",
    "        logreg_cm,\n",
    "        index=class_labels,\n",
    "        columns=class_labels\n",
    "    )\n",
    "    print(logreg_df)\n",
    "    print(\"Classification Report:\")\n",
    "    print(classification_report(y_test, y_pred, target_names=class_labels))"
   ]
  },
  {
   "cell_type": "code",
   "execution_count": 74,
   "metadata": {},
   "outputs": [
    {
     "name": "stdout",
     "output_type": "stream",
     "text": [
      "Indica vs. Sativa Results:\n",
      "Best Parameters: {'logreg__C': 0.1, 'logreg__penalty': 'l1', 'logreg__solver': 'liblinear'}\n",
      "Best Cross-Validated Accuracy: 0.8567\n",
      "Confusion Matrix:\n",
      "        Indica  Sativa\n",
      "Indica     185      13\n",
      "Sativa      24      99\n",
      "Classification Report:\n",
      "              precision    recall  f1-score   support\n",
      "\n",
      "      Indica       0.89      0.93      0.91       198\n",
      "      Sativa       0.88      0.80      0.84       123\n",
      "\n",
      "    accuracy                           0.88       321\n",
      "   macro avg       0.88      0.87      0.88       321\n",
      "weighted avg       0.88      0.88      0.88       321\n",
      "\n"
     ]
    }
   ],
   "source": [
    "# Indica vs. Sativa\n",
    "logreg_ovo(X, y_ovo, [0, 1], \"Indica vs. Sativa\", [\"Indica\", \"Sativa\"])"
   ]
  },
  {
   "cell_type": "code",
   "execution_count": 75,
   "metadata": {},
   "outputs": [
    {
     "name": "stdout",
     "output_type": "stream",
     "text": [
      "Indica vs. Hybrid Results:\n",
      "Best Parameters: {'logreg__C': 0.01, 'logreg__penalty': 'l2', 'logreg__solver': 'liblinear'}\n",
      "Best Cross-Validated Accuracy: 0.7442\n",
      "Confusion Matrix:\n",
      "        Indica  Hybrid\n",
      "Indica     134      64\n",
      "Hybrid      45     292\n",
      "Classification Report:\n",
      "              precision    recall  f1-score   support\n",
      "\n",
      "      Indica       0.75      0.68      0.71       198\n",
      "      Hybrid       0.82      0.87      0.84       337\n",
      "\n",
      "    accuracy                           0.80       535\n",
      "   macro avg       0.78      0.77      0.78       535\n",
      "weighted avg       0.79      0.80      0.79       535\n",
      "\n"
     ]
    }
   ],
   "source": [
    "# Indica vs. Hybrid\n",
    "logreg_ovo(X, y_ovo, [0, 2], \"Indica vs. Hybrid\", [\"Indica\", \"Hybrid\"])"
   ]
  },
  {
   "cell_type": "code",
   "execution_count": 76,
   "metadata": {},
   "outputs": [
    {
     "name": "stdout",
     "output_type": "stream",
     "text": [
      "Hybrid vs. Sativa Results:\n",
      "Best Parameters: {'logreg__C': 1, 'logreg__penalty': 'l1', 'logreg__solver': 'liblinear'}\n",
      "Best Cross-Validated Accuracy: 0.7500\n",
      "Confusion Matrix:\n",
      "        Hybrid  Sativa\n",
      "Hybrid     298      39\n",
      "Sativa      81      42\n",
      "Classification Report:\n",
      "              precision    recall  f1-score   support\n",
      "\n",
      "      Hybrid       0.79      0.88      0.83       337\n",
      "      Sativa       0.52      0.34      0.41       123\n",
      "\n",
      "    accuracy                           0.74       460\n",
      "   macro avg       0.65      0.61      0.62       460\n",
      "weighted avg       0.71      0.74      0.72       460\n",
      "\n"
     ]
    }
   ],
   "source": [
    "# Hybrid vs. Sativa\n",
    "logreg_ovo(X, y_ovo, [2, 1], \"Hybrid vs. Sativa\", [\"Hybrid\", \"Sativa\"])"
   ]
  },
  {
   "cell_type": "markdown",
   "metadata": {},
   "source": [
    "Logistic regression did slightly better than SVC in the OvO comparisons, especially for \"Indica vs. Sativa\" and \"Indica vs. Hybrid,\" with higher accuracy and more balanced performance overall, while SVC performed well but was less consistent."
   ]
  },
  {
   "cell_type": "markdown",
   "metadata": {},
   "source": [
    "## Q4  \n",
    "Which of the six models did the best job distinguishing at differentiating the two groups? Which did the worst? Does this make intuitive sense?"
   ]
  },
  {
   "cell_type": "markdown",
   "metadata": {},
   "source": [
    "The best OvO model was Logistic Regression for \"Indica vs. Sativa,\" with an accuracy of 88% and balanced performance across both groups. The worst model was SVC for \"Hybrid vs. Sativa,\" with an accuracy of 65%, showing difficulty in distinguishing these two groups. This makes sense because Indica and Sativa have distinct characteristics, making them easier to separate, while Hybrids share overlapping traits with both Sativa and Indica, which makes them harder to differentiate between."
   ]
  },
  {
   "cell_type": "markdown",
   "metadata": {},
   "source": [
    "## Q5  \n",
    "Suppose you had simply input the full data, with three classes, into the LogisticRegression function. Would this have automatically taken an “OvO” approach or an “OvR” approach?  \n",
    "\n",
    "What about for SVC?  \n",
    "\n",
    "Note: You do not actually have to run code here - you only need to look at sklearn’s documentation to see how these functions handle multiclass input.  "
   ]
  },
  {
   "cell_type": "markdown",
   "metadata": {},
   "source": [
    "For Logistic Regression, it would automatically use the OvR approach for multiclass classificatio. For SVC, it defaults to the OvO approach when handling multiclass input."
   ]
  },
  {
   "cell_type": "markdown",
   "metadata": {},
   "source": [
    "# Appendix and References  \n",
    "- LDA: https://scikit-learn.org/dev/modules/generated/sklearn.discriminant_analysis.LinearDiscriminantAnalysis.html  \n",
    "- QDA: https://scikit-learn.org/dev/modules/generated/sklearn.discriminant_analysis.QuadraticDiscriminantAnalysis.html  \n",
    "- SVC: https://scikit-learn.org/dev/modules/generated/sklearn.svm.SVC.html  \n",
    "- SVM: https://scikit-learn.org/1.5/modules/svm.html#svm  \n",
    "- Logistic Regression: https://scikit-learn.org/dev/modules/generated/sklearn.linear_model.LogisticRegression.html  \n",
    "\n",
    "Generative AI Statement:  \n",
    "In this lab, ChatGPT-4o was helpful in simplifying tasks and writing reusable functions for OvR and OvO classification in Part 3. These functions made it much easier to compare models and interpret results for different class pairs. It also helped troubleshoot issues, clean up pipelines, and handle data properly, saving me time and letting me focus more on understanding and analyzing the results."
   ]
  }
 ],
 "metadata": {
  "kernelspec": {
   "display_name": "Python 3",
   "language": "python",
   "name": "python3"
  },
  "language_info": {
   "codemirror_mode": {
    "name": "ipython",
    "version": 3
   },
   "file_extension": ".py",
   "mimetype": "text/x-python",
   "name": "python",
   "nbconvert_exporter": "python",
   "pygments_lexer": "ipython3",
   "version": "3.13.0"
  }
 },
 "nbformat": 4,
 "nbformat_minor": 2
}
