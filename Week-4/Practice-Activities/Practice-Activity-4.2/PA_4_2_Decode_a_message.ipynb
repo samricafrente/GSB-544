{
  "cells": [
    {
      "cell_type": "markdown",
      "metadata": {
        "id": "kPj76X_FP2uq"
      },
      "source": [
        "## Setup\n",
        "\n",
        "Run the code below to load the scrambled message:\n"
      ]
    },
    {
      "cell_type": "code",
      "execution_count": 1,
      "metadata": {
        "id": "YwkYMR2qP2ur"
      },
      "outputs": [],
      "source": [
        "import pandas as pd\n",
        "\n",
        "message = pd.read_csv(\"https://www.dropbox.com/s/lgpn3vmksk3ssdo/scrambled_message.txt?dl=1\")['Word']"
      ]
    },
    {
      "cell_type": "code",
      "execution_count": null,
      "metadata": {
        "colab": {
          "base_uri": "https://localhost:8080/"
        },
        "id": "rqykaCOxF1Z9",
        "outputId": "78651d97-c46b-4c24-b5e9-f67ae6a0ea1c"
      },
      "outputs": [
        {
          "data": {
            "text/plain": [
              "0                    Koila!\n",
              "1                     In   \n",
              "2                     kiew,\n",
              "3                         a\n",
              "4                 humble   \n",
              "               ...         \n",
              "122                     you\n",
              "123                 mabugh.\n",
              "124              ughhh?call\n",
              "125        meugh.ughhhh!   \n",
              "126                      K.\n",
              "Name: Word, Length: 127, dtype: object"
            ]
          },
          "execution_count": 2,
          "metadata": {},
          "output_type": "execute_result"
        }
      ],
      "source": [
        "message"
      ]
    },
    {
      "cell_type": "markdown",
      "metadata": {
        "id": "cI8ZE3LAP2us"
      },
      "source": [
        "In this activity, a \"word\" refers to any set of characters with no white space, even though they are not truly an English word.  That is, even though many of elements of the scrambled message vector are nonsense, and some have punctuation, you can consider each element to be a \"word\".\n",
        "\n",
        "Beware!  The object named `message` is a **pandas Series** of strings.  If you want to use functions that expect a string, rather than a series, remember `.apply()` and `lambda` functions.\n",
        "\n"
      ]
    },
    {
      "cell_type": "markdown",
      "metadata": {
        "id": "dYISAD8uQLAy"
      },
      "source": [
        "\n",
        "## Warm-up exercises\n",
        "\n",
        "1. How many characters are in the scrambled message?\n",
        "2. How many of these characters are white space?\n",
        "3. How many words are in the scrambled message?\n",
        "4. Show all the punctuation marks in the scrambled message.\n",
        "5. Print out, in all capitals, the longest word in the scrambled message.\n",
        "6. Print out every piece of a word that starts with the letter \"m\" and ends with the letter \"z\" in the scrambled message."
      ]
    },
    {
      "cell_type": "code",
      "execution_count": 4,
      "metadata": {
        "colab": {
          "base_uri": "https://localhost:8080/"
        },
        "id": "6vB1tbjiQNvE",
        "outputId": "2fdde157-0856-40f3-c791-4f6779d97995"
      },
      "outputs": [
        {
          "name": "stdout",
          "output_type": "stream",
          "text": [
            "892\n",
            "1652\n",
            "127\n",
            "{',', '.', '?', '!', ';'}\n",
            "KAUDEVILLIANUGH?AOGHAJDBN\n",
            "Series([], Name: Word, dtype: object)\n"
          ]
        }
      ],
      "source": [
        "# 1. How many characters are in the scrambled message?\n",
        "total_characters = message.str.cat().replace(' ', '').replace('\\n', '')  # concatenates all the words into a single string and removes spaces and newlines to get the actual number of characters\n",
        "print(len(total_characters))\n",
        "\n",
        "# 2. How many of these characters are white space?\n",
        "total_whitespace = message.str.cat().count(' ') # joins all the words, and .count(' ') counts the number of spaces in the resulting string\n",
        "print(total_whitespace)\n",
        "\n",
        "# 3. How many words are in the scrambled message?\n",
        "print(len(message)) # count the number of rows, each row corresponds to one word\n",
        "\n",
        "# 4. Show all the punctuation marks in the scrambled message.\n",
        "import string\n",
        "punctuation = ''.join([char for word in message for char in word if char in string.punctuation])\n",
        "print(set(punctuation))  # All unique punctuation marks\n",
        "\n",
        "# 5. Print out, in all capitals, the longest word in the scrambled message.\n",
        "longest_word = message[message.str.len().idxmax()].upper()\n",
        "print(longest_word)\n",
        "\n",
        "# 6. Print out every piece of a word that starts with the letter \"m\" and ends with the letter \"z\" in the scrambled message.\n",
        "words_mz = message[message.str.startswith('m') & message.str.endswith('z')]\n",
        "print(words_mz)"
      ]
    },
    {
      "cell_type": "markdown",
      "metadata": {
        "id": "l3iJnnCJQOh7"
      },
      "source": [
        "\n",
        "\n",
        "## Decode a message\n",
        "\n",
        "Complete the following steps to decode the message.  \n",
        "\n",
        "1. Remove any spaces before or after each word.\n",
        "2. Any time you see the word \"ugh\", with any number of h's, followed by a punctuation mark, delete this.\n",
        "3. No word should be longer than 16 characters. Drop all extra characters beyond 13 off the end of each word.\n",
        "4. Replace all instances of exactly 2 a's with exactly 2 e's.\n",
        "5. Replace all z's with t's.\n",
        "6. Every word that ends in b, change that to a y.  *Hint: look out for punctuation!*\n",
        "7. Every word that starts with k, change that to a v.  *Hint: look out for capitalization!*\n",
        "8. Use `.join()` to recombine all your words into a message.\n",
        "9. Find the movie this quote is from."
      ]
    },
    {
      "cell_type": "code",
      "execution_count": 8,
      "metadata": {
        "colab": {
          "base_uri": "https://localhost:8080/"
        },
        "id": "RRfjUzxMQQ5j",
        "outputId": "1735c739-2771-4acd-a3dc-bdca8cef1c97"
      },
      "outputs": [
        {
          "name": "stdout",
          "output_type": "stream",
          "text": [
            "Koila! In view, a humble vaudevilliana veteran, cast vicariously as both victim and villain by the vicissitudes of fate. This visage, no mere veneer of vanity, is a vestige of the vox populi now vacant, vanished. However, this valorous visitation of a bygone vexation stands vivified, and has vowed to vanquish these venal and virulent vermin, van guarding vice and vouchsafing the violently vicious and voracious violation of volition. The only verdict is vengeance; a vendetta, held as a votive not in vain, for the value and veracity of such shall one day vindicate the vigilant and the virtuous. Kerily this vichyssoise of verbiage veers most verbose, so let me simply add that its my very good honour to meet you and you may call me K.\n"
          ]
        }
      ],
      "source": [
        "# Assuming your original message is a string, you need to convert it into a Pandas Series first\n",
        "message = pd.Series(message.split())\n",
        "\n",
        "# Remove any spaces before or after each word.\n",
        "message = message.str.strip()\n",
        "\n",
        "# Any time you see the word \"ugh\", with any number of h's, followed by a punctuation mark, delete this.\n",
        "message = message.str.replace(r'ugh+[^\\w\\s]', '', regex=True)\n",
        "\n",
        "# No word should be longer than 16 characters. Drop all extra characters beyond 13 off the end of each word.\n",
        "message = message.apply(lambda x: x[:13] if len(x) > 16 else x)\n",
        "\n",
        "# Replace all instances of exactly 2 a's with exactly 2 e's.\n",
        "message = message.str.replace('aa', 'ee')\n",
        "\n",
        "# Replace all z's with t's.\n",
        "message = message.str.replace('z', 't')\n",
        "\n",
        "# Every word that ends in b, change that to a y. Hint: look out for punctuation!\n",
        "message = message.apply(lambda x: x[:-1] + 'y' if x.endswith('b') else x)\n",
        "\n",
        "# Every word that starts with k, change that to a v. Hint: look out for capitalization!\n",
        "message = message.apply(lambda x: x.replace('k', 'v', 1) if x.startswith('k') else x)\n",
        "\n",
        "# Use .join() to recombine all your words into a message.\n",
        "message = ' '.join(message)\n",
        "print(message)\n"
      ]
    }
  ],
  "metadata": {
    "colab": {
      "provenance": []
    },
    "kernelspec": {
      "display_name": "Python 3",
      "language": "python",
      "name": "python3"
    }
  },
  "nbformat": 4,
  "nbformat_minor": 0
}
